{
 "cells": [
  {
   "cell_type": "markdown",
   "metadata": {
    "colab_type": "text",
    "id": "elTS-X28Wd-w"
   },
   "source": [
    "\n",
    "\n",
    "# RBMs and DBNs"
   ]
  },
  {
   "cell_type": "markdown",
   "metadata": {
    "colab_type": "text",
    "id": "fTPqT7gtWd-2"
   },
   "source": [
    "## Learning Objectives\n",
    "By the end of this lesson, you will be able to:\n",
    "\n",
    "\n",
    "1) Brief RBMs and DBNs <br/>\n",
    "2) Implement RBMs to reconstruct the input image <br/>\n",
    "3) Use Convolution theory within RBMs <br/>"
   ]
  },
  {
   "cell_type": "markdown",
   "metadata": {
    "colab_type": "text",
    "id": "hdfvvWfSWd-4"
   },
   "source": [
    "## Collaborative Filtering\n",
    "\n",
    "The collaborative filtering technique is used to build intelligent recommendation systems. It filters items or products that a user might like based on likes or reactions of similar users.\n",
    "\n",
    "\n",
    "There are two types of collaborative filtering:\n",
    "\n",
    "* Memory Based: It consists of two methods, user-based and item-based. User-based collaborative filtering works on the users that have rated similar items to predict target user's ratings, whereas item-based collaborative filtering works on similar items that the user has already rated.\n",
    "\n",
    "* Model based: It uses machine learning to find user ratings for an item. The typical machine learning algorithms used are PCA, SVD, Neural Networks, etc."
   ]
  },
  {
   "cell_type": "markdown",
   "metadata": {
    "colab_type": "text",
    "id": "KkN5dS7mWd-8"
   },
   "source": [
    "Consider the below example of collaborative filtering, where you examine eight users and their ratings against seven movies.\n",
    "\n",
    "![alt text](https://drive.google.com/uc?id=12sLyoyqsPPFbUx7BWDqbC2rgUZ09nCf5)"
   ]
  },
  {
   "cell_type": "markdown",
   "metadata": {
    "colab_type": "text",
    "id": "sCCMVfv3Wd-9"
   },
   "source": [
    "    The value in each cell shows the score that the user has given to the movie after watching it.\n",
    "![image.png](https://drive.google.com/uc?id=1tPsi1ULtMWX9SxzpnhMrpu_PcMknJar9)"
   ]
  },
  {
   "cell_type": "markdown",
   "metadata": {
    "colab_type": "text",
    "id": "R98nIqZ5Wd--"
   },
   "source": [
    "##Neural Network\n",
    "\n",
    "Now, imagine you have a type of neural network that has only two layers: the input layer and the hidden layer.\n",
    "![image.png](3.png)"
   ]
  },
  {
   "cell_type": "markdown",
   "metadata": {
    "colab_type": "text",
    "id": "4xoIsuxHWd-_"
   },
   "source": [
    "## Collaborative Filtering and Neural Network\n",
    "When you feed the first user vector into the network, it goes through the network and finally fires up some units in the hidden layer.\n",
    "\n",
    "\n",
    "![image.png](https://drive.google.com/uc?id=1q857UtW1TTdTuauB-e2hH6aZkn2oMj2s)\n"
   ]
  },
  {
   "cell_type": "markdown",
   "metadata": {
    "colab_type": "text",
    "id": "ET8Gyh-KWd_B"
   },
   "source": [
    "Then, the values of the hidden layer will be fed back into the network and a vector, which is almost the same as the input vector is reconstructed as an output.\n",
    "\n",
    "\n",
    "![image.png](https://drive.google.com/uc?id=1Fj73xwSRZdXfXopomPwD3KA4Y7fd5rtG)"
   ]
  },
  {
   "cell_type": "markdown",
   "metadata": {
    "colab_type": "text",
    "id": "sj3jOIEfWd_D"
   },
   "source": [
    "You feed the second user’s ratings, which are not very different from the first user, and the same hidden units will be turned on, and the network output will be the same.\n",
    "\n",
    "![image.png](https://drive.google.com/uc?id=1RG_rE7fcFYKNrspicqd6g0Xx9M0m6y68)\n"
   ]
  },
  {
   "cell_type": "markdown",
   "metadata": {
    "colab_type": "text",
    "id": "WmNoeMSEWd_E"
   },
   "source": [
    "You can repeat it for the third user as well as the fourth user.\n",
    "\n",
    "\n",
    "![image.png](https://drive.google.com/uc?id=1vGMFVc73ts3CwOfO8bWU8tKwvuou8yX5)"
   ]
  },
  {
   "cell_type": "markdown",
   "metadata": {
    "colab_type": "text",
    "id": "DQkF29WVWd_F"
   },
   "source": [
    "Now, feed a user that has a completely different idea about these movies. When you feed the respective rating values into the network, different hidden units get turned on giving way to the reconstruction of a different vector.\n",
    "\n",
    "\n",
    "![image.png](https://drive.google.com/uc?id=1eDpYMpp3fGW_VP9Xys7a4Iq6Ujw3iR7m)"
   ]
  },
  {
   "cell_type": "markdown",
   "metadata": {
    "colab_type": "text",
    "id": "OQ8ox6smWd_G"
   },
   "source": [
    "The vector is almost same as user number six and the process can be repeated for other users.\n",
    "\n",
    "\n",
    "![image.png](https://drive.google.com/uc?id=1ZH-rn_5r3cbLc5tTiUTFA8k-3YL2-JjF)"
   ]
  },
  {
   "cell_type": "markdown",
   "metadata": {
    "colab_type": "text",
    "id": "0aWRHqwdWd_H"
   },
   "source": [
    "Now, consider user number eight. She or he hasn’t watched movie six but, does have some preferences that are almost same as users five and six.\n",
    "\n",
    "\n",
    "![image.png](https://drive.google.com/uc?id=1yD9yZBex93Wsmbgl-KtL1ElA7UCrGki4)"
   ]
  },
  {
   "cell_type": "markdown",
   "metadata": {
    "colab_type": "text",
    "id": "w6hhfnFFWd_J"
   },
   "source": [
    "If you now feed this vector into your network, it’ll fire up the same hidden units as users five and six.\n",
    "\n",
    "\n",
    "![image.png](https://drive.google.com/uc?id=1ckFRBQfM-_FPFSXBgv2yrtWRtFUNzQ4J)"
   ]
  },
  {
   "cell_type": "markdown",
   "metadata": {
    "colab_type": "text",
    "id": "eZ9AQjhbFAH0"
   },
   "source": [
    "## Boltzmann Machines"
   ]
  },
  {
   "cell_type": "markdown",
   "metadata": {
    "colab_type": "text",
    "id": "6s1Ak3w5MZta"
   },
   "source": [
    "Boltzmann machines are named after the Boltzmann distribution.\n",
    "<br><br>\n",
    "**Boltzmann Distribution:**<br>\n",
    "It is a part of Statistical Mechanics that enables us to understand the impact of parameters, such as Entropy and Temperature on the Quantum States in Thermodynamics.\n",
    "<br><br>\n",
    "**History:**<br>\n",
    "Boltzmann distribution was invented in 1985 by Geoffrey Hinton at Carnegie Mellon University. The research and development of Boltzmann distribution were further carrried out by Terry Sejnowski, a professor at Johns Hopkins University."
   ]
  },
  {
   "cell_type": "markdown",
   "metadata": {
    "colab_type": "text",
    "id": "diYmqZ_7Zs5q"
   },
   "source": [
    "### What Are Boltzmann Machines?"
   ]
  },
  {
   "cell_type": "markdown",
   "metadata": {
    "colab_type": "text",
    "id": "IdIsvpuKFIH5"
   },
   "source": [
    "Boltzmann machines are stochastic and generative neural networks that can learn internal representations and solve difficult problems of combinatorics."
   ]
  },
  {
   "cell_type": "markdown",
   "metadata": {
    "colab_type": "text",
    "id": "HsxFX0H3bBvl"
   },
   "source": [
    "### Overview of the Functioning of Boltzmann Machines "
   ]
  },
  {
   "cell_type": "markdown",
   "metadata": {
    "colab_type": "text",
    "id": "7GuO0R5giUIs"
   },
   "source": [
    "Boltzmann machines consist of two types of nodes:\n",
    "* Hidden nodes (h)\n",
    "* Visible nodes (v)"
   ]
  },
  {
   "cell_type": "markdown",
   "metadata": {
    "colab_type": "text",
    "id": "9fR5stJdarPY"
   },
   "source": [
    "![boltzmann](https://drive.google.com/uc?id=1rhhgnH05qlS2hxXQtsGwsFlALaADqRnW)"
   ]
  },
  {
   "cell_type": "markdown",
   "metadata": {
    "colab_type": "text",
    "id": "6hHObipId189"
   },
   "source": [
    "**Why Boltzmann machines are stochastic?**<br>\n",
    "\n",
    "Boltzmann machines are devoid of output nodes and this factor provides the machines their stochastic feature.\n",
    "In other words, Boltzmann machines do not have output as 1 or 0 rather, they learn the patterns without output.\n",
    "<br><br>\n",
    "**How Boltzmann machines are different from traditional neural netwroks?**<br>\n",
    "* Boltzmann machines have connections among the input nodes. \n",
    "In the image above, you can see that irrespective of their type, all the nodes are connected to each other. These indiscriminated connections help sharing the information among themselves as well as in the self-generation of the subsequent data.\n",
    "\n",
    "* Measurement depends on the data present in the visible node and not in the hidden node."
   ]
  },
  {
   "cell_type": "markdown",
   "metadata": {
    "colab_type": "text",
    "id": "fDWBSPzeuHk9"
   },
   "source": [
    "### Limitations of Boltzmann Machines"
   ]
  },
  {
   "cell_type": "markdown",
   "metadata": {
    "colab_type": "text",
    "id": "MMySj0hmuK2y"
   },
   "source": [
    "* Have increased frequency of weight adjustment and no measures to determine the number of times the weight change is allowed\n",
    "\n",
    "* Require more time to collect statistics in order to calculate probabilities\n",
    "\n",
    "* Are ambiguous about adjusting the temperature during simulated annealing\n",
    "\n",
    "* Have no measures to decide whether the network has reached the equilibrium temperature or not"
   ]
  },
  {
   "cell_type": "markdown",
   "metadata": {
    "colab_type": "text",
    "id": "Mli90SoIWd_L"
   },
   "source": [
    "## Restricted Boltzmann Machines"
   ]
  },
  {
   "cell_type": "markdown",
   "metadata": {
    "colab_type": "text",
    "id": "19Q_aooaWd_M"
   },
   "source": [
    "RBMs are shallow neural networks.\n",
    "\n",
    "\n",
    "![image.png](https://drive.google.com/uc?id=1YqxzjPqkN6PAs7iMpDs9g9B_q_gAOOip)   \n",
    "\n",
    "* Has 2 layers \n",
    "* Is unsupervised\n",
    "* Finds patterns in the data by reconstructing the input\n",
    "* RBMs do not have intra layer connection between neurons\n",
    "* The two-layered networks are used for regression, classification, dimensionality reduction, feature learning, collaborative filtering, and topic modeling. \n"
   ]
  },
  {
   "cell_type": "markdown",
   "metadata": {
    "colab_type": "text",
    "id": "WPR60PZIWd_N"
   },
   "source": [
    "They are restricted because neurons within the same layer are not connected.\n",
    "\n",
    "\n",
    "![image.png](https://drive.google.com/uc?id=1kOksg7Eai5qoklOjO7hgU6oL65v2Dhd7)\n"
   ]
  },
  {
   "cell_type": "markdown",
   "metadata": {
    "colab_type": "text",
    "id": "myPvvy29Wd_O"
   },
   "source": [
    "## Feeding RBM"
   ]
  },
  {
   "cell_type": "markdown",
   "metadata": {
    "colab_type": "text",
    "id": "DC0X1csxWd_P"
   },
   "source": [
    "On feeding an input image, the values that appear in the hidden layer can be considered as features learned automatically from the input data.\n",
    "\n",
    "![image.png](https://drive.google.com/uc?id=1sgUBPSUuyq-gBxF8U3rJ-B4GBwfI805G)\n",
    "\n",
    "\n",
    "The values in the hidden units are a good representation of data that are lower in dimensionality when compared to the original data."
   ]
  },
  {
   "cell_type": "markdown",
   "metadata": {
    "colab_type": "text",
    "id": "0Ns7tV1JWd_R"
   },
   "source": [
    "## Applications of RBM"
   ]
  },
  {
   "cell_type": "markdown",
   "metadata": {
    "colab_type": "text",
    "id": "7FpRUk_6Wd_T"
   },
   "source": [
    "* Dimensionality Reduction\n",
    "* Collaborative Filtering\n",
    "* Feature Extraction\n",
    "* Deep Belief Networks\n",
    "\n",
    "    Note: Deep Belief Networks are created by stacking multiple RBMs along with a back propagation and gradient descent-based optimization."
   ]
  },
  {
   "cell_type": "markdown",
   "metadata": {
    "colab_type": "text",
    "id": "r02808Q8Wd_U"
   },
   "source": [
    "## Learning Process of RBM\n",
    "\n",
    "\n",
    "The learning process consists of several forward and backward passes, where the RBM tries to reconstruct the input data and feed it to a visible layer for a new forward pass. The weights and biases of the neural net are adjusted accordingly.\n",
    "\n",
    "\n",
    "![image.png](https://drive.google.com/uc?id=1Wn04_KR207_uvO2blrIrBqhbbj3l8exO)"
   ]
  },
  {
   "cell_type": "markdown",
   "metadata": {
    "colab_type": "text",
    "id": "hF89-BV80fTL"
   },
   "source": [
    "## Problem Statement: \n",
    "Consider the MNIST dataset and the classification model from the previous lesson for image classification. Now to increase the model accuracy, the training data must be increased. Apply the concept of RBM as they are also known for their ability to reconstruct images.\n",
    "<br>\n",
    "<br>\n",
    "## Objective: \n",
    "Classify images of MNIST data and reconstruct them using RBM.\n",
    "\n",
    "Link to dataset: https://www.dropbox.com/s/39ohoapd2o88ky3/train%20%281%29.csv?dl=0\n",
    "\n"
   ]
  },
  {
   "cell_type": "markdown",
   "metadata": {
    "colab_type": "text",
    "id": "NMb3si7JMKel"
   },
   "source": [
    "### Current State of Neuron"
   ]
  },
  {
   "cell_type": "markdown",
   "metadata": {
    "colab_type": "text",
    "id": "kIRm4mPFMKem"
   },
   "source": [
    "The energy of neuron **i** in a state is calculated using the total input on connections of all active neurons and its own bias:"
   ]
  },
  {
   "cell_type": "markdown",
   "metadata": {
    "colab_type": "text",
    "id": "BuTTe2klMKen"
   },
   "source": [
    "![image.png](https://drive.google.com/uc?id=1RHNDn1rhXWTLkrEVbloYxl_cV5aS8e7l)"
   ]
  },
  {
   "cell_type": "markdown",
   "metadata": {
    "colab_type": "text",
    "id": "hBEcSafBMKeo"
   },
   "source": [
    "### Probability of Neuron Activation"
   ]
  },
  {
   "cell_type": "markdown",
   "metadata": {
    "colab_type": "text",
    "id": "sOwecMR4MKep"
   },
   "source": [
    "**Sigmoid Function**<br>\n",
    "The probability that the neuron **i** will be active is given by:<br>\n",
    "![image.png](https://drive.google.com/uc?id=1Vvw2oUDLSEr7wVuykPmnVvrZ3AFvlqQ0)"
   ]
  },
  {
   "cell_type": "markdown",
   "metadata": {
    "colab_type": "text",
    "id": "_SrcMXeSMKeq"
   },
   "source": [
    "### The Energy Factor"
   ]
  },
  {
   "cell_type": "markdown",
   "metadata": {
    "colab_type": "text",
    "id": "rrUAZRPKMKeq"
   },
   "source": [
    "Now, if the neurons change their state, the change is driven by Boltzmann’s energy equation:\n",
    "\n",
    "![image.png](https://drive.google.com/uc?id=1TQhmE6qq0HpUe4wlJkzy44xhf14ClZEj)"
   ]
  },
  {
   "cell_type": "markdown",
   "metadata": {
    "colab_type": "text",
    "id": "3ziK-zcbMKes"
   },
   "source": [
    "### The Energy Function"
   ]
  },
  {
   "cell_type": "markdown",
   "metadata": {
    "colab_type": "text",
    "id": "znuGZZt0MKet"
   },
   "source": [
    "In a Boltzmann machine, the energy of a state vector is defined as:\n",
    "\n",
    "![image.png](https://drive.google.com/uc?id=1MZa5I1uIU86IJ_iTlhDK7968BR6GVXMW)"
   ]
  },
  {
   "cell_type": "markdown",
   "metadata": {
    "colab_type": "text",
    "id": "xIXBxcXdMKeu"
   },
   "source": [
    "The energy function can be further generalized with respect to v, h as:\n",
    "\n",
    "![image.png](https://drive.google.com/uc?id=1IDr4zrJ1eveAwgduJxbXo2XUEgIICz1n)"
   ]
  },
  {
   "cell_type": "markdown",
   "metadata": {
    "colab_type": "text",
    "id": "F5SmsiciMKev"
   },
   "source": [
    "The probability of the whole system with respect to v, h can be represented as:\n",
    "\n",
    "![image.png](https://drive.google.com/uc?id=1pPbbC3PIo3r2HFSmAvbxjHazVHAAaHb3)\n",
    "\n",
    "Where:<br>\n",
    "z = Partition function<br>\n",
    "E*e^(-E(v,h)) = Summation of all pairs of visible and hidden vectors"
   ]
  },
  {
   "cell_type": "markdown",
   "metadata": {
    "colab_type": "text",
    "id": "3WGl-6rqMKew"
   },
   "source": [
    "The above formula confirms the probability that any neuron can be activated."
   ]
  },
  {
   "cell_type": "markdown",
   "metadata": {
    "colab_type": "text",
    "id": "8TyaFDudMKex"
   },
   "source": [
    "### An Activated Hidden Neuron"
   ]
  },
  {
   "cell_type": "markdown",
   "metadata": {
    "colab_type": "text",
    "id": "IaUu4tY6MKey"
   },
   "source": [
    "The probability of a hidden neuron getting activated can be expressed collectively as:\n",
    "\n",
    "![image.png](https://drive.google.com/uc?id=1W34lQIBR9blqfVXEjpXQ54eIKdhp5F0v)"
   ]
  },
  {
   "cell_type": "markdown",
   "metadata": {
    "colab_type": "text",
    "id": "pDz_7FsLMKez"
   },
   "source": [
    "### An Activated Visible Neuron"
   ]
  },
  {
   "cell_type": "markdown",
   "metadata": {
    "colab_type": "text",
    "id": "blnAA-xNMKe0"
   },
   "source": [
    "The probability of a visible neuron getting activated can be expressed collectively as:\n",
    "\n",
    "![image.png](https://drive.google.com/uc?id=1vD7frgMJv58BDR6IH3dlWzy0JV7WCSEn)"
   ]
  },
  {
   "cell_type": "markdown",
   "metadata": {
    "colab_type": "text",
    "id": "BGuHpDYKMKe1"
   },
   "source": [
    "## RBM Training Procedure"
   ]
  },
  {
   "cell_type": "markdown",
   "metadata": {
    "colab_type": "text",
    "id": "Uv-8Za3IMKe2"
   },
   "source": [
    "### Forward Pass"
   ]
  },
  {
   "cell_type": "markdown",
   "metadata": {
    "colab_type": "text",
    "id": "7iSErV4cMKe3"
   },
   "source": [
    "Inputs are converted into binary values then the vector input is fed to the network, where its values are combined with individual weights and corresponding biases.\n",
    "\n",
    "![image.png](https://drive.google.com/uc?id=1D4eTRz_sOzFSg_L12R0o2HRcb--FQqyJ)"
   ]
  },
  {
   "cell_type": "markdown",
   "metadata": {
    "colab_type": "text",
    "id": "FvP447UMMKe4"
   },
   "source": [
    "### Backward Pass"
   ]
  },
  {
   "cell_type": "markdown",
   "metadata": {
    "colab_type": "text",
    "id": "aI8-4vaFMKe4"
   },
   "source": [
    "Activations are combined with an individual weight and a bias. Results are passed on to the visible layer.\n",
    "\n",
    "![image.png](https://drive.google.com/uc?id=1uvM4Vig8UZJrO3dWlvxvabHeCML4k27E)"
   ]
  },
  {
   "cell_type": "markdown",
   "metadata": {
    "colab_type": "text",
    "id": "R19Ff4TvMKe5"
   },
   "source": [
    "### Divergence Calculation"
   ]
  },
  {
   "cell_type": "markdown",
   "metadata": {
    "colab_type": "text",
    "id": "Lp6-L1srMKe6"
   },
   "source": [
    "Input 𝑥 and samples 𝑥~ are compared in the visible layer. The parameters are then updated and the steps are repeated.\n",
    "\n",
    "![image.png](https://drive.google.com/uc?id=1QO5xEU0AhknmuCDALvOrjDPFictbFeEp)"
   ]
  },
  {
   "cell_type": "markdown",
   "metadata": {
    "colab_type": "text",
    "id": "LQ-quXFtMKe9"
   },
   "source": [
    "\n",
    "![image.png](https://drive.google.com/uc?id=1UhSf9bahBfPkJZ4wNrQysdLi1cExKy_O)"
   ]
  },
  {
   "cell_type": "markdown",
   "metadata": {
    "colab_type": "text",
    "id": "h45M8JUhMKe-"
   },
   "source": [
    "## Deep Belief Networks (DBN)"
   ]
  },
  {
   "cell_type": "markdown",
   "metadata": {
    "colab_type": "text",
    "id": "61dYGxnCMKe_"
   },
   "source": [
    "* DBNs can be represented as stacked RBMs. The hidden layer of one RBM is the visible layer of the one above it.\n",
    "* An unsupervised pretraining step is performed by training the layers one RBM at a time.\n",
    "* The output for one set is used as the input for the next one.\n",
    "\n",
    "![image.png](https://drive.google.com/uc?id=1uSxFTRyuzWarmK2oWxO3Jmli794ihIXA)"
   ]
  },
  {
   "cell_type": "markdown",
   "metadata": {
    "colab_type": "text",
    "id": "9C4pwDunMKfA"
   },
   "source": [
    "### Supervised Fine Tuning of DBNs"
   ]
  },
  {
   "cell_type": "markdown",
   "metadata": {
    "colab_type": "text",
    "id": "Cd1wVlyRMKfC"
   },
   "source": [
    "* The network can be further optimized by gradient descent with respect to a supervised training criterion.\n",
    "* The parameters are slightly updated as a small set of labeled samples is introduced.\n",
    "\n",
    "![image.png](https://drive.google.com/uc?id=1DtSdH-IBNY2udrOW5ANwJijjcjmnnO9v)"
   ]
  },
  {
   "cell_type": "markdown",
   "metadata": {
    "colab_type": "text",
    "id": "SB0aNYQ5MKfD"
   },
   "source": [
    "### DBN Energy Equations"
   ]
  },
  {
   "cell_type": "markdown",
   "metadata": {
    "colab_type": "text",
    "id": "FNa4_Z9GMKfE"
   },
   "source": [
    "\n",
    "![image.png](https://drive.google.com/uc?id=1piIAeScisYpOHLHN72KjUr8PY7xYUwA6)"
   ]
  },
  {
   "cell_type": "markdown",
   "metadata": {
    "colab_type": "text",
    "id": "tabM6-ZcMKfF"
   },
   "source": [
    "### RBM vs. DBN"
   ]
  },
  {
   "cell_type": "markdown",
   "metadata": {
    "colab_type": "text",
    "id": "iGp59E2CMKfG"
   },
   "source": [
    "####RBM  <br>![image.png](https://drive.google.com/uc?id=19srGI4T3vL6hHQiK5LUgtc8DSDIVTTGl)"
   ]
  },
  {
   "cell_type": "markdown",
   "metadata": {
    "colab_type": "text",
    "id": "I7UUpGt8MKfH"
   },
   "source": [
    "#### DBN <br>![image.png](https://drive.google.com/uc?id=1K3mj8YrX2Q6N70H0Wv7HVsFwf3Em6fgm)"
   ]
  },
  {
   "cell_type": "markdown",
   "metadata": {
    "colab_type": "text",
    "id": "TyydGIx5Bjyt"
   },
   "source": [
    "### Application of DBN"
   ]
  },
  {
   "cell_type": "markdown",
   "metadata": {
    "colab_type": "text",
    "id": "2Y-9NohjBogt"
   },
   "source": [
    "* **Image recognition**<br>\n",
    "DBN can be used in image recognition where input can be a picture and output will be the category. This can prove useful in heatlhcare sector where diagnosis of medical condition can be done on the basis of photographs. For example, classifying pathogens will be an easy task and would eliminate the reliance on specialists during epidemics.\n",
    "\n",
    "* **Video recognition**<br>\n",
    "DBN helps in video recognition where it works like vision and the purpose is to find meaning in the data that is present in the form of video. For example, identifying gesture of a person or finding an object. \n",
    "\n",
    "* **Motion-capture data**<br>\n",
    "Motion-capture data is used in tracking the movement of people or objects and DBN helps in achieving the outcome. Motion capture relies not only on the appearance of the object or a person but also on the velocity and distance. Motion capture is widely used in filmmaking and development of video games."
   ]
  },
  {
   "cell_type": "markdown",
   "metadata": {
    "colab_type": "text",
    "id": "EGStbQjCMKfI"
   },
   "source": [
    "## Convolutional RBM"
   ]
  },
  {
   "cell_type": "markdown",
   "metadata": {
    "colab_type": "text",
    "id": "Fk75jCVMMKfK"
   },
   "source": [
    "* Convolutional RBM is based on the idea of translation invariance.\n",
    "* It can be considered as a variant of RBM.\n",
    "* It has 𝑁_𝑣 x 𝑁_𝑣 visible units.\n",
    "* It has 𝑁_𝑘 x 𝑁_𝑘 hidden units per group.\n",
    "* Each group has a 𝑁_𝑤 x 𝑁_𝑤 filter.\n",
    "* A bias 𝑏^𝑘 is associated with each hidden group."
   ]
  },
  {
   "cell_type": "markdown",
   "metadata": {
    "colab_type": "text",
    "id": "pf_vgZ2vMKfL"
   },
   "source": [
    "### Feature Maps in CRBM"
   ]
  },
  {
   "cell_type": "markdown",
   "metadata": {
    "colab_type": "text",
    "id": "Z1Qym_hiMKfL"
   },
   "source": [
    "* The hidden units are partitioned into K submatrices called feature maps (H1, H2, . . . , HK).\n",
    "* Each hidden unit represents the presence of a specific feature.\n",
    "\n",
    "![image.png](https://drive.google.com/uc?id=1KYic-4Mm-RYfxbdh65n2QdM1gt2r-0TJ)"
   ]
  },
  {
   "cell_type": "markdown",
   "metadata": {
    "colab_type": "text",
    "id": "7JozdYKVMKfM"
   },
   "source": [
    "### Convolving Filters and Hidden Units"
   ]
  },
  {
   "cell_type": "markdown",
   "metadata": {
    "colab_type": "text",
    "id": "CC-5zJ4GMKfN"
   },
   "source": [
    "One filter is convolved against each hidden group.\n",
    "\n",
    "\n",
    "![image.png](https://drive.google.com/uc?id=1Xpc42_nyRUoM2O-gF2KYmDzd_qY1xZx5)"
   ]
  },
  {
   "cell_type": "markdown",
   "metadata": {
    "colab_type": "text",
    "id": "7d4ME6e3jb66"
   },
   "source": [
    "![image.png](https://drive.google.com/uc?id=1P0EG_ubvk62gqtaNebT3amgUxFBdsSqH)"
   ]
  },
  {
   "cell_type": "markdown",
   "metadata": {
    "colab_type": "text",
    "id": "8sCV3rrqqJP_"
   },
   "source": [
    "![image.png](https://drive.google.com/uc?id=1NkDwy2_2dnG4wRKLLUcNzTd4ER4Mbv1v)"
   ]
  },
  {
   "cell_type": "markdown",
   "metadata": {
    "colab_type": "text",
    "id": "0MUrEesUqJQA"
   },
   "source": [
    "\n",
    "\n",
    "\n",
    "\n",
    "\n",
    "![image.png](https://drive.google.com/uc?id=1z-rLj9ZgUnJBukL-I5hoNfJwmkf9YbVW)"
   ]
  },
  {
   "cell_type": "markdown",
   "metadata": {
    "colab_type": "text",
    "id": "dG19w3KEqJQA"
   },
   "source": [
    "![image.png](https://drive.google.com/uc?id=1mTAKJ25sLQYn--OpB0Asg14Og3cvYeHP)"
   ]
  },
  {
   "cell_type": "markdown",
   "metadata": {
    "colab_type": "text",
    "id": "gaBxkOK7qJQB"
   },
   "source": [
    "### Energy in CRBM"
   ]
  },
  {
   "cell_type": "markdown",
   "metadata": {
    "colab_type": "text",
    "id": "8KFUu_x3qJQC"
   },
   "source": [
    "The energy in CRBM is given in the below equation:\n",
    "\n",
    "\n",
    "![image.png](https://drive.google.com/uc?id=1gbKGehYc7gOHqFyI3iUVNevathJ27K84)"
   ]
  },
  {
   "cell_type": "markdown",
   "metadata": {
    "colab_type": "text",
    "id": "ImdbMb2IqJQE"
   },
   "source": [
    "### Fully Connected CRBM"
   ]
  },
  {
   "cell_type": "markdown",
   "metadata": {
    "colab_type": "text",
    "id": "s_3dvsfBqJQF"
   },
   "source": [
    "CRBM is used as the building block of the local feature detector hierarchy.\n",
    "\n",
    "\n",
    "![image.png](https://drive.google.com/uc?id=1nm32pmzxtlyzJrLW4RD0F9l21EALfkR8)"
   ]
  },
  {
   "cell_type": "markdown",
   "metadata": {
    "colab_type": "text",
    "id": "fQLefdtSqJQG"
   },
   "source": [
    "Max pooling can be performed to subsample the features in non-overlapping image regions."
   ]
  },
  {
   "cell_type": "markdown",
   "metadata": {
    "colab_type": "text",
    "id": "jwaz_7XTqJQH"
   },
   "source": [
    "## Convolutional DBN (CDBN)"
   ]
  },
  {
   "cell_type": "markdown",
   "metadata": {
    "colab_type": "text",
    "id": "ZqMfaXdrqJQH"
   },
   "source": [
    "* Several max pooling CRBMs are stacked together \n",
    "* Realistic images are gracefully scaled\n",
    "* CRBMs are translational invariant "
   ]
  },
  {
   "cell_type": "markdown",
   "metadata": {
    "colab_type": "text",
    "id": "TbMMnwC9qJQI"
   },
   "source": [
    "### Training CDBN\n",
    "\n"
   ]
  },
  {
   "cell_type": "markdown",
   "metadata": {
    "colab_type": "text",
    "id": "1Xsn5b0-qJQJ"
   },
   "source": [
    "![image.png](https://drive.google.com/uc?id=14ax2R0rcJeog8hD5136t3cJCQX5dkHnc)"
   ]
  },
  {
   "cell_type": "markdown",
   "metadata": {
    "colab_type": "text",
    "id": "8xg4RXjt2zFi"
   },
   "source": [
    "## Knowledge Check\n",
    "Click [here](https://drive.google.com/open?id=1wOEiMHF4Oo0A9Vvn6WRUlP3X8f51bheRl3xtj8stcew) for knowledge check"
   ]
  },
  {
   "cell_type": "markdown",
   "metadata": {
    "colab_type": "text",
    "id": "b60laVndqJQK"
   },
   "source": [
    "### Key Takeaways"
   ]
  },
  {
   "cell_type": "markdown",
   "metadata": {
    "colab_type": "text",
    "id": "uvFOuOXHqJQM"
   },
   "source": [
    "* RBMs are shallow neural networks and try to reconstruct the input data.\n",
    "* The learning process consists of several forward and backward passes.\n",
    "* Convolutional RBM is based on the idea of translation invariance."
   ]
  },
  {
   "cell_type": "markdown",
   "metadata": {
    "colab_type": "text",
    "id": "lzqcwQgSj39I"
   },
   "source": [
    "## Lesson end Project"
   ]
  },
  {
   "cell_type": "markdown",
   "metadata": {
    "colab_type": "text",
    "id": "u1bsc2_csUWu"
   },
   "source": [
    "### Build an Movie Recommendation System Using RBM"
   ]
  },
  {
   "cell_type": "markdown",
   "metadata": {
    "colab_type": "text",
    "id": "LL_mxFn_sUWv"
   },
   "source": [
    "**Problem Scenario**: You work in a content streaming company where you need to create a recommendation system for movies using RBM.\n",
    "\n",
    "**Objective** : Create a movie recommendation system using RBM with PyTorch.\n",
    "<br>\n",
    "<br>\n",
    "Link to Dataset: https://www.dropbox.com/sh/7k8nymvfww5xtww/AAAQvkeCoiVbTYE8HJN1STxSa?dl=0"
   ]
  }
 ],
 "metadata": {
  "colab": {
   "collapsed_sections": [
    "4xoIsuxHWd-_",
    "myPvvy29Wd_O",
    "r02808Q8Wd_U",
    "BGuHpDYKMKe1"
   ],
   "name": "Lesson 2_RBM_and_DBNs.ipynb",
   "provenance": []
  },
  "kernelspec": {
   "display_name": "Python 3 (ipykernel)",
   "language": "python",
   "name": "python3"
  },
  "language_info": {
   "codemirror_mode": {
    "name": "ipython",
    "version": 3
   },
   "file_extension": ".py",
   "mimetype": "text/x-python",
   "name": "python",
   "nbconvert_exporter": "python",
   "pygments_lexer": "ipython3",
   "version": "3.9.10"
  }
 },
 "nbformat": 4,
 "nbformat_minor": 1
}
