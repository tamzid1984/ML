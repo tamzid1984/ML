{
  "nbformat": 4,
  "nbformat_minor": 0,
  "metadata": {
    "colab": {
      "provenance": []
    },
    "kernelspec": {
      "name": "python3",
      "display_name": "Python 3"
    },
    "language_info": {
      "name": "python"
    }
  },
  "cells": [
    {
      "cell_type": "code",
      "execution_count": 28,
      "metadata": {
        "id": "qAl7FfW6K97w"
      },
      "outputs": [],
      "source": [
        "import numpy as np\n",
        "import pandas as pd\n",
        "from sklearn import datasets\n",
        "iris = datasets.load_iris()\n",
        "X = iris.data\n",
        "y = iris.target"
      ]
    },
    {
      "cell_type": "code",
      "source": [
        "from sklearn.neighbors import KNeighborsClassifier\n",
        "knn = KNeighborsClassifier(n_neighbors=1)\n",
        "knn.fit(X, y)\n",
        "knn.predict([[3, 5, 4, 2]])"
      ],
      "metadata": {
        "colab": {
          "base_uri": "https://localhost:8080/"
        },
        "id": "Dp1JZtB5LVM5",
        "outputId": "774e50f5-b445-48b3-b0ee-146b08295a52"
      },
      "execution_count": 29,
      "outputs": [
        {
          "output_type": "execute_result",
          "data": {
            "text/plain": [
              "array([2])"
            ]
          },
          "metadata": {},
          "execution_count": 29
        }
      ]
    },
    {
      "cell_type": "code",
      "source": [
        "print(\"Predicted target name:\",\n",
        "       iris['target_names'][knn.predict([[3, 5, 4, 2]])])"
      ],
      "metadata": {
        "colab": {
          "base_uri": "https://localhost:8080/"
        },
        "id": "DJKGfwE5Ljrs",
        "outputId": "19d7adfe-2f38-4735-ae55-6205dc6d87c3"
      },
      "execution_count": 30,
      "outputs": [
        {
          "output_type": "stream",
          "name": "stdout",
          "text": [
            "Predicted target name: ['virginica']\n"
          ]
        }
      ]
    },
    {
      "cell_type": "code",
      "source": [
        "X_new = [[3, 5, 4, 2], [5, 4, 3, 2]]\n",
        "knn.predict(X_new)"
      ],
      "metadata": {
        "colab": {
          "base_uri": "https://localhost:8080/"
        },
        "id": "ltldgMlKLy9Z",
        "outputId": "8c7895da-8d01-4ae9-80ba-cf09f303d9ff"
      },
      "execution_count": 31,
      "outputs": [
        {
          "output_type": "execute_result",
          "data": {
            "text/plain": [
              "array([2, 1])"
            ]
          },
          "metadata": {},
          "execution_count": 31
        }
      ]
    },
    {
      "cell_type": "code",
      "source": [
        "knn1 = KNeighborsClassifier(n_neighbors=3)\n",
        "knn1.fit(X, y)\n",
        "knn1.predict(X_new)"
      ],
      "metadata": {
        "colab": {
          "base_uri": "https://localhost:8080/"
        },
        "id": "oJ5lbnEhL0eX",
        "outputId": "c6daff67-44c8-48a1-8430-6bc4d5b6b8ca"
      },
      "execution_count": 32,
      "outputs": [
        {
          "output_type": "execute_result",
          "data": {
            "text/plain": [
              "array([1, 1])"
            ]
          },
          "metadata": {},
          "execution_count": 32
        }
      ]
    },
    {
      "cell_type": "code",
      "source": [
        "print(\"Predicted target name:\",\n",
        "       iris['target_names'][knn1.predict([[3, 5, 4, 2]])])"
      ],
      "metadata": {
        "colab": {
          "base_uri": "https://localhost:8080/"
        },
        "id": "C3_Fx3MDPSJ1",
        "outputId": "77f4b067-8501-4ca7-a53b-f1b0036f6f41"
      },
      "execution_count": 33,
      "outputs": [
        {
          "output_type": "stream",
          "name": "stdout",
          "text": [
            "Predicted target name: ['versicolor']\n"
          ]
        }
      ]
    },
    {
      "cell_type": "code",
      "source": [
        "from sklearn.linear_model import LogisticRegression\n",
        "lr = LogisticRegression(solver='lbfgs', max_iter=1000)\n",
        "lr.fit(X, y)\n",
        "lr.predict(X_new)"
      ],
      "metadata": {
        "colab": {
          "base_uri": "https://localhost:8080/"
        },
        "id": "DCROU-skL_XY",
        "outputId": "3701459c-5820-40c6-df23-0f06fa6f1cef"
      },
      "execution_count": 34,
      "outputs": [
        {
          "output_type": "execute_result",
          "data": {
            "text/plain": [
              "array([0, 0])"
            ]
          },
          "metadata": {},
          "execution_count": 34
        }
      ]
    },
    {
      "cell_type": "code",
      "source": [
        "print(\"Predicted target name:\",\n",
        "       iris['target_names'][lr.predict([[3, 5, 4, 2]])])"
      ],
      "metadata": {
        "colab": {
          "base_uri": "https://localhost:8080/"
        },
        "id": "r_ZyMjASO0Jw",
        "outputId": "3abad57b-1caf-46bb-f3d0-ebd4fb806c7f"
      },
      "execution_count": 35,
      "outputs": [
        {
          "output_type": "stream",
          "name": "stdout",
          "text": [
            "Predicted target name: ['setosa']\n"
          ]
        }
      ]
    }
  ]
}