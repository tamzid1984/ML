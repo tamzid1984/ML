{
 "cells": [
  {
   "cell_type": "markdown",
   "metadata": {},
   "source": [
    "# Classes"
   ]
  },
  {
   "cell_type": "code",
   "execution_count": 4,
   "metadata": {},
   "outputs": [],
   "source": [
    "def func_name(arg1, arg2):\n",
    "    x = arg1+arg2\n",
    "    return x"
   ]
  },
  {
   "cell_type": "code",
   "execution_count": 9,
   "metadata": {},
   "outputs": [
    {
     "data": {
      "text/plain": [
       "101"
      ]
     },
     "execution_count": 9,
     "metadata": {},
     "output_type": "execute_result"
    }
   ],
   "source": [
    "func_name(23,78)"
   ]
  },
  {
   "cell_type": "code",
   "execution_count": 6,
   "metadata": {},
   "outputs": [],
   "source": [
    "res = func_name(23,78)"
   ]
  },
  {
   "cell_type": "code",
   "execution_count": 7,
   "metadata": {},
   "outputs": [
    {
     "data": {
      "text/plain": [
       "101"
      ]
     },
     "execution_count": 7,
     "metadata": {},
     "output_type": "execute_result"
    }
   ],
   "source": [
    "res"
   ]
  },
  {
   "cell_type": "code",
   "execution_count": null,
   "metadata": {},
   "outputs": [],
   "source": []
  },
  {
   "cell_type": "code",
   "execution_count": 58,
   "metadata": {},
   "outputs": [],
   "source": [
    "class calculator:\n",
    "    \n",
    "    def get_numbers(ob, x, y):\n",
    "        ob.num1 = x\n",
    "        ob.num2 = y\n",
    "    \n",
    "    def add(ob):\n",
    "        return ob.num1 + ob.num2\n",
    "    \n",
    "    def sub(ob):\n",
    "        return ob.num1 - ob.num2"
   ]
  },
  {
   "cell_type": "code",
   "execution_count": 59,
   "metadata": {},
   "outputs": [],
   "source": [
    "ob = calculator()"
   ]
  },
  {
   "cell_type": "code",
   "execution_count": 60,
   "metadata": {},
   "outputs": [],
   "source": [
    "ob.get_numbers(34, 67)"
   ]
  },
  {
   "cell_type": "code",
   "execution_count": 61,
   "metadata": {},
   "outputs": [
    {
     "data": {
      "text/plain": [
       "101"
      ]
     },
     "execution_count": 61,
     "metadata": {},
     "output_type": "execute_result"
    }
   ],
   "source": [
    "ob.add()"
   ]
  },
  {
   "cell_type": "code",
   "execution_count": 62,
   "metadata": {},
   "outputs": [
    {
     "data": {
      "text/plain": [
       "-33"
      ]
     },
     "execution_count": 62,
     "metadata": {},
     "output_type": "execute_result"
    }
   ],
   "source": [
    "ob.sub()"
   ]
  },
  {
   "cell_type": "code",
   "execution_count": null,
   "metadata": {},
   "outputs": [],
   "source": []
  },
  {
   "cell_type": "code",
   "execution_count": 63,
   "metadata": {},
   "outputs": [],
   "source": [
    "ob1 = calculator()"
   ]
  },
  {
   "cell_type": "code",
   "execution_count": 64,
   "metadata": {},
   "outputs": [],
   "source": [
    "ob1.get_numbers(23,45)"
   ]
  },
  {
   "cell_type": "code",
   "execution_count": 65,
   "metadata": {},
   "outputs": [
    {
     "data": {
      "text/plain": [
       "68"
      ]
     },
     "execution_count": 65,
     "metadata": {},
     "output_type": "execute_result"
    }
   ],
   "source": [
    "ob1.add()"
   ]
  },
  {
   "cell_type": "code",
   "execution_count": 66,
   "metadata": {},
   "outputs": [
    {
     "data": {
      "text/plain": [
       "-22"
      ]
     },
     "execution_count": 66,
     "metadata": {},
     "output_type": "execute_result"
    }
   ],
   "source": [
    "ob1.sub()"
   ]
  },
  {
   "cell_type": "code",
   "execution_count": 67,
   "metadata": {},
   "outputs": [
    {
     "data": {
      "text/plain": [
       "(34, 67)"
      ]
     },
     "execution_count": 67,
     "metadata": {},
     "output_type": "execute_result"
    }
   ],
   "source": [
    "ob.num1,ob.num2"
   ]
  },
  {
   "cell_type": "code",
   "execution_count": 68,
   "metadata": {},
   "outputs": [
    {
     "data": {
      "text/plain": [
       "(23, 45)"
      ]
     },
     "execution_count": 68,
     "metadata": {},
     "output_type": "execute_result"
    }
   ],
   "source": [
    "ob1.num1, ob1.num2"
   ]
  },
  {
   "cell_type": "code",
   "execution_count": null,
   "metadata": {},
   "outputs": [],
   "source": []
  },
  {
   "cell_type": "code",
   "execution_count": 69,
   "metadata": {},
   "outputs": [],
   "source": [
    "class calculator:\n",
    "    \n",
    "    def __init__(self, x, y):\n",
    "        self.num1 = x\n",
    "        self.num2 = y\n",
    "        \n",
    "    def add(self):\n",
    "        return self.num1 + self.num2\n",
    "    \n",
    "    def sub(self):\n",
    "        return self.num1 - self.num2"
   ]
  },
  {
   "cell_type": "code",
   "execution_count": 71,
   "metadata": {},
   "outputs": [],
   "source": [
    "ob = calculator(23,56)"
   ]
  },
  {
   "cell_type": "code",
   "execution_count": 72,
   "metadata": {},
   "outputs": [
    {
     "data": {
      "text/plain": [
       "79"
      ]
     },
     "execution_count": 72,
     "metadata": {},
     "output_type": "execute_result"
    }
   ],
   "source": [
    "ob.add()"
   ]
  },
  {
   "cell_type": "code",
   "execution_count": 73,
   "metadata": {},
   "outputs": [
    {
     "data": {
      "text/plain": [
       "-33"
      ]
     },
     "execution_count": 73,
     "metadata": {},
     "output_type": "execute_result"
    }
   ],
   "source": [
    "ob.sub()"
   ]
  },
  {
   "cell_type": "code",
   "execution_count": null,
   "metadata": {},
   "outputs": [],
   "source": []
  },
  {
   "cell_type": "code",
   "execution_count": null,
   "metadata": {},
   "outputs": [],
   "source": []
  },
  {
   "cell_type": "code",
   "execution_count": null,
   "metadata": {},
   "outputs": [],
   "source": []
  },
  {
   "cell_type": "raw",
   "metadata": {},
   "source": [
    "Write a class for a car showroom\n",
    "\n",
    "add_car function to add make, model and year of the car\n",
    "\n",
    "get_cars function to display all the cars\n",
    "\n",
    "NOTE: we should be able to add and fetch multiple cars"
   ]
  },
  {
   "cell_type": "code",
   "execution_count": null,
   "metadata": {},
   "outputs": [],
   "source": []
  },
  {
   "cell_type": "code",
   "execution_count": 86,
   "metadata": {},
   "outputs": [],
   "source": [
    "class car_showroom:\n",
    "    \n",
    "    def __init__(self):\n",
    "        self.li = []\n",
    "        \n",
    "    def add_car(self, model, year, price):\n",
    "        self.li.append([model, year, price])\n",
    "        \n",
    "    def get_cars(self):\n",
    "        return self.li\n",
    "    \n",
    "    def get_price(self, model, year):\n",
    "        for i in self.li:\n",
    "            if i[0] == model and i[1] == year:\n",
    "                return i"
   ]
  },
  {
   "cell_type": "code",
   "execution_count": 87,
   "metadata": {},
   "outputs": [],
   "source": [
    "hyundai = car_showroom()"
   ]
  },
  {
   "cell_type": "code",
   "execution_count": 88,
   "metadata": {},
   "outputs": [],
   "source": [
    "hyundai.add_car('verna', 2021, 1600000)"
   ]
  },
  {
   "cell_type": "code",
   "execution_count": 89,
   "metadata": {},
   "outputs": [],
   "source": [
    "hyundai.add_car('creta', 2021, 1800000)"
   ]
  },
  {
   "cell_type": "code",
   "execution_count": 90,
   "metadata": {},
   "outputs": [
    {
     "data": {
      "text/plain": [
       "[['verna', 2021, 1600000], ['creta', 2021, 1800000]]"
      ]
     },
     "execution_count": 90,
     "metadata": {},
     "output_type": "execute_result"
    }
   ],
   "source": [
    "hyundai.get_cars()"
   ]
  },
  {
   "cell_type": "code",
   "execution_count": 91,
   "metadata": {},
   "outputs": [
    {
     "data": {
      "text/plain": [
       "['creta', 2021, 1800000]"
      ]
     },
     "execution_count": 91,
     "metadata": {},
     "output_type": "execute_result"
    }
   ],
   "source": [
    "hyundai.get_price('creta', 2021)"
   ]
  },
  {
   "cell_type": "code",
   "execution_count": null,
   "metadata": {},
   "outputs": [],
   "source": []
  },
  {
   "cell_type": "code",
   "execution_count": null,
   "metadata": {},
   "outputs": [],
   "source": []
  },
  {
   "cell_type": "code",
   "execution_count": null,
   "metadata": {},
   "outputs": [],
   "source": [
    "# properties of a class includes functions and public variables\n",
    "# self is the object inside the class while ob1 and ob2 are the objects outside the class\n",
    "# we can only access the property of a class through objects"
   ]
  },
  {
   "cell_type": "code",
   "execution_count": null,
   "metadata": {},
   "outputs": [],
   "source": [
    "# self._a -> protected\n",
    "# self.__a -> private"
   ]
  },
  {
   "cell_type": "code",
   "execution_count": null,
   "metadata": {},
   "outputs": [],
   "source": [
    "class demo:\n",
    "    def assign(self, a, b):\n",
    "        self.x = a # assigning the information in private variables a and b to public variables x amd y\n",
    "        self.y = b # self.x and self.y is used to make x and y public i.e. x and y belongs to class demo while\n",
    "                   # a and b are private to assign function only\n",
    "    def add(self):\n",
    "        return self.x + self.y # returning the sum of public variable x and y"
   ]
  },
  {
   "cell_type": "code",
   "execution_count": null,
   "metadata": {},
   "outputs": [],
   "source": [
    "ob1 = demo() # ob1 is the object of demo outside the class"
   ]
  },
  {
   "cell_type": "code",
   "execution_count": null,
   "metadata": {},
   "outputs": [],
   "source": [
    "ob1.assign(12,23) # accessing a function assign using the object b1 of the class demo"
   ]
  },
  {
   "cell_type": "code",
   "execution_count": null,
   "metadata": {},
   "outputs": [],
   "source": [
    "# ob1.x = 12\n",
    "# ob1.y = 23"
   ]
  },
  {
   "cell_type": "code",
   "execution_count": null,
   "metadata": {},
   "outputs": [],
   "source": [
    "ob1.add()"
   ]
  },
  {
   "cell_type": "code",
   "execution_count": null,
   "metadata": {},
   "outputs": [],
   "source": [
    "ob2 = demo()"
   ]
  },
  {
   "cell_type": "code",
   "execution_count": null,
   "metadata": {},
   "outputs": [],
   "source": [
    "ob2.assign(1,5)"
   ]
  },
  {
   "cell_type": "code",
   "execution_count": null,
   "metadata": {},
   "outputs": [],
   "source": [
    "ob2.add()"
   ]
  },
  {
   "cell_type": "code",
   "execution_count": null,
   "metadata": {},
   "outputs": [],
   "source": [
    "class demo:\n",
    "    def __init__(self, a, b):\n",
    "        self.x = a # assigning the information in private variables a and b to public variables x amd y\n",
    "        self.y = b # self.x and self.y is used to make x and y public i.e. x and y belongs to class demo while\n",
    "                   # a and b are private to assign only\n",
    "    def add(self):\n",
    "        return self.x + self.y # returning the sum of public variable x and y"
   ]
  },
  {
   "cell_type": "code",
   "execution_count": null,
   "metadata": {},
   "outputs": [],
   "source": [
    "ob = demo(23,56)"
   ]
  },
  {
   "cell_type": "code",
   "execution_count": null,
   "metadata": {},
   "outputs": [],
   "source": [
    "ob.add()"
   ]
  },
  {
   "cell_type": "code",
   "execution_count": null,
   "metadata": {},
   "outputs": [],
   "source": []
  },
  {
   "cell_type": "markdown",
   "metadata": {},
   "source": [
    "# Inheritance"
   ]
  },
  {
   "cell_type": "code",
   "execution_count": 1,
   "metadata": {},
   "outputs": [],
   "source": [
    "class functions_class:\n",
    "    \n",
    "    def __init__(self, x, y):\n",
    "        self.a = x\n",
    "        self.b = y\n",
    "    def add(self, m, n):\n",
    "        return m+n\n",
    "    def sub(self, m, n):\n",
    "        return m-n\n",
    "\n",
    "class calculate(functions_class):      # calculate(child class) is inheriting functions_class(parent class)\n",
    "    \n",
    "    def operate(ob, op):\n",
    "        if op == '+':\n",
    "            return ob.add(ob.a, ob.b)\n",
    "        if op == '-':\n",
    "            return ob.sub(ob.a, ob.b)\n",
    "        "
   ]
  },
  {
   "cell_type": "code",
   "execution_count": 2,
   "metadata": {},
   "outputs": [],
   "source": [
    "obj = calculate(23, 78)"
   ]
  },
  {
   "cell_type": "code",
   "execution_count": 3,
   "metadata": {},
   "outputs": [
    {
     "data": {
      "text/plain": [
       "101"
      ]
     },
     "execution_count": 3,
     "metadata": {},
     "output_type": "execute_result"
    }
   ],
   "source": [
    "obj.operate('+')"
   ]
  },
  {
   "cell_type": "code",
   "execution_count": 4,
   "metadata": {},
   "outputs": [
    {
     "data": {
      "text/plain": [
       "-55"
      ]
     },
     "execution_count": 4,
     "metadata": {},
     "output_type": "execute_result"
    }
   ],
   "source": [
    "obj.operate('-')"
   ]
  },
  {
   "cell_type": "code",
   "execution_count": 5,
   "metadata": {},
   "outputs": [],
   "source": [
    "ob_fn = functions_class(12,5)"
   ]
  },
  {
   "cell_type": "code",
   "execution_count": 6,
   "metadata": {},
   "outputs": [
    {
     "data": {
      "text/plain": [
       "134"
      ]
     },
     "execution_count": 6,
     "metadata": {},
     "output_type": "execute_result"
    }
   ],
   "source": [
    "ob_fn.add(45,89)"
   ]
  },
  {
   "cell_type": "code",
   "execution_count": 7,
   "metadata": {},
   "outputs": [
    {
     "data": {
      "text/plain": [
       "167"
      ]
     },
     "execution_count": 7,
     "metadata": {},
     "output_type": "execute_result"
    }
   ],
   "source": [
    "ob_fn.add(89,78)"
   ]
  },
  {
   "cell_type": "code",
   "execution_count": 8,
   "metadata": {},
   "outputs": [
    {
     "data": {
      "text/plain": [
       "45"
      ]
     },
     "execution_count": 8,
     "metadata": {},
     "output_type": "execute_result"
    }
   ],
   "source": [
    "ob_fn.sub(90,45)"
   ]
  },
  {
   "cell_type": "code",
   "execution_count": 16,
   "metadata": {},
   "outputs": [],
   "source": [
    "class classA:\n",
    "    def __init__(self, a, b):\n",
    "        self.classA_x = a\n",
    "        self.classA_y = b\n",
    "        \n",
    "class classB(classA):\n",
    "    def __init__(self, m, n):\n",
    "        self.classB_x = m\n",
    "        self.classB_y = n\n",
    "        \n",
    "class classC(classA):\n",
    "    def __init__(self, a, b, c):\n",
    "        self.classC_x = a\n",
    "        self.classC_y = b\n",
    "        self.classC_z = c\n",
    "        \n",
    "class classD(classB, classC):\n",
    "    pass\n"
   ]
  },
  {
   "cell_type": "code",
   "execution_count": 19,
   "metadata": {},
   "outputs": [],
   "source": [
    "obc = classD(2,3)"
   ]
  },
  {
   "cell_type": "code",
   "execution_count": 22,
   "metadata": {},
   "outputs": [
    {
     "data": {
      "text/plain": [
       "[__main__.classB, __main__.classA, object]"
      ]
     },
     "execution_count": 22,
     "metadata": {},
     "output_type": "execute_result"
    }
   ],
   "source": [
    "classB.mro()"
   ]
  },
  {
   "cell_type": "code",
   "execution_count": 23,
   "metadata": {},
   "outputs": [
    {
     "data": {
      "text/plain": [
       "(__main__.classD, __main__.classB, __main__.classC, __main__.classA, object)"
      ]
     },
     "execution_count": 23,
     "metadata": {},
     "output_type": "execute_result"
    }
   ],
   "source": [
    "classD.__mro__"
   ]
  },
  {
   "cell_type": "code",
   "execution_count": 24,
   "metadata": {},
   "outputs": [
    {
     "data": {
      "text/plain": [
       "True"
      ]
     },
     "execution_count": 24,
     "metadata": {},
     "output_type": "execute_result"
    }
   ],
   "source": [
    "isinstance(obc, classD)"
   ]
  },
  {
   "cell_type": "code",
   "execution_count": 15,
   "metadata": {},
   "outputs": [],
   "source": [
    "class A:\n",
    "    def __init__(self,a,b):\n",
    "        self.A_a = a\n",
    "        self.A_b = b\n",
    "class B:\n",
    "    def __init__(self, a, b, c):\n",
    "        self.B_a = a\n",
    "        self.B_b = b\n",
    "        self.B_c = c\n",
    "        \n",
    "class C(B,A):\n",
    "    pass"
   ]
  },
  {
   "cell_type": "code",
   "execution_count": null,
   "metadata": {},
   "outputs": [],
   "source": []
  },
  {
   "cell_type": "code",
   "execution_count": null,
   "metadata": {},
   "outputs": [],
   "source": []
  },
  {
   "cell_type": "code",
   "execution_count": null,
   "metadata": {},
   "outputs": [],
   "source": []
  },
  {
   "cell_type": "code",
   "execution_count": null,
   "metadata": {},
   "outputs": [],
   "source": []
  },
  {
   "cell_type": "code",
   "execution_count": null,
   "metadata": {},
   "outputs": [],
   "source": []
  },
  {
   "cell_type": "code",
   "execution_count": null,
   "metadata": {},
   "outputs": [],
   "source": []
  },
  {
   "cell_type": "code",
   "execution_count": null,
   "metadata": {},
   "outputs": [],
   "source": []
  },
  {
   "cell_type": "markdown",
   "metadata": {},
   "source": [
    "# Polymorphism\n",
    "\n",
    "-> Function Overloading <br>\n",
    "-> Function Overriding"
   ]
  },
  {
   "cell_type": "code",
   "execution_count": 1,
   "metadata": {},
   "outputs": [],
   "source": [
    "def add(x,y):\n",
    "    return x+y"
   ]
  },
  {
   "cell_type": "code",
   "execution_count": 2,
   "metadata": {},
   "outputs": [],
   "source": [
    "def add(x,y,z):\n",
    "    return x+y+z"
   ]
  },
  {
   "cell_type": "code",
   "execution_count": 3,
   "metadata": {},
   "outputs": [
    {
     "data": {
      "text/plain": [
       "9"
      ]
     },
     "execution_count": 3,
     "metadata": {},
     "output_type": "execute_result"
    }
   ],
   "source": [
    "add(2,3,4)"
   ]
  },
  {
   "cell_type": "code",
   "execution_count": 4,
   "metadata": {},
   "outputs": [
    {
     "ename": "TypeError",
     "evalue": "add() missing 1 required positional argument: 'z'",
     "output_type": "error",
     "traceback": [
      "\u001b[0;31m---------------------------------------------------------------------------\u001b[0m",
      "\u001b[0;31mTypeError\u001b[0m                                 Traceback (most recent call last)",
      "Input \u001b[0;32mIn [4]\u001b[0m, in \u001b[0;36m<cell line: 1>\u001b[0;34m()\u001b[0m\n\u001b[0;32m----> 1\u001b[0m \u001b[43madd\u001b[49m\u001b[43m(\u001b[49m\u001b[38;5;241;43m6\u001b[39;49m\u001b[43m,\u001b[49m\u001b[38;5;241;43m7\u001b[39;49m\u001b[43m)\u001b[49m\n",
      "\u001b[0;31mTypeError\u001b[0m: add() missing 1 required positional argument: 'z'"
     ]
    }
   ],
   "source": [
    "add(6,7)"
   ]
  },
  {
   "cell_type": "code",
   "execution_count": 5,
   "metadata": {},
   "outputs": [],
   "source": [
    "def demo(*x):\n",
    "    add = 0\n",
    "    for i in x:\n",
    "        add+=i\n",
    "    return add"
   ]
  },
  {
   "cell_type": "code",
   "execution_count": 6,
   "metadata": {},
   "outputs": [
    {
     "data": {
      "text/plain": [
       "6"
      ]
     },
     "execution_count": 6,
     "metadata": {},
     "output_type": "execute_result"
    }
   ],
   "source": [
    "demo(1,2,3)"
   ]
  },
  {
   "cell_type": "code",
   "execution_count": 7,
   "metadata": {},
   "outputs": [
    {
     "data": {
      "text/plain": [
       "21"
      ]
     },
     "execution_count": 7,
     "metadata": {},
     "output_type": "execute_result"
    }
   ],
   "source": [
    "demo(1,2,3,4,5,6)"
   ]
  },
  {
   "cell_type": "code",
   "execution_count": null,
   "metadata": {},
   "outputs": [],
   "source": []
  },
  {
   "cell_type": "code",
   "execution_count": null,
   "metadata": {},
   "outputs": [],
   "source": []
  },
  {
   "cell_type": "code",
   "execution_count": null,
   "metadata": {},
   "outputs": [],
   "source": []
  },
  {
   "cell_type": "code",
   "execution_count": null,
   "metadata": {},
   "outputs": [],
   "source": []
  },
  {
   "cell_type": "code",
   "execution_count": null,
   "metadata": {},
   "outputs": [],
   "source": []
  },
  {
   "cell_type": "code",
   "execution_count": null,
   "metadata": {},
   "outputs": [],
   "source": []
  },
  {
   "cell_type": "code",
   "execution_count": null,
   "metadata": {},
   "outputs": [],
   "source": []
  },
  {
   "cell_type": "code",
   "execution_count": 13,
   "metadata": {},
   "outputs": [],
   "source": [
    "class one:\n",
    "    def func(self, a, b):\n",
    "        return a+b\n",
    "class two(one):\n",
    "    def func(self, a, b):\n",
    "        return a*b\n",
    "    def parent_func(self, a, b):\n",
    "        return super().func(a, b)"
   ]
  },
  {
   "cell_type": "code",
   "execution_count": 14,
   "metadata": {},
   "outputs": [],
   "source": [
    "ob = two()"
   ]
  },
  {
   "cell_type": "code",
   "execution_count": 15,
   "metadata": {},
   "outputs": [
    {
     "data": {
      "text/plain": [
       "6"
      ]
     },
     "execution_count": 15,
     "metadata": {},
     "output_type": "execute_result"
    }
   ],
   "source": [
    "ob.func(3,2)"
   ]
  },
  {
   "cell_type": "code",
   "execution_count": 16,
   "metadata": {},
   "outputs": [
    {
     "data": {
      "text/plain": [
       "5"
      ]
     },
     "execution_count": 16,
     "metadata": {},
     "output_type": "execute_result"
    }
   ],
   "source": [
    "ob.parent_func(2,3)"
   ]
  },
  {
   "cell_type": "code",
   "execution_count": null,
   "metadata": {},
   "outputs": [],
   "source": []
  },
  {
   "cell_type": "code",
   "execution_count": 17,
   "metadata": {},
   "outputs": [],
   "source": [
    "class Shape:\n",
    "    def __init__(self, shape):\n",
    "        self.shape = shape\n",
    "        \n",
    "class square(Shape):\n",
    "    def area(self, a):\n",
    "        return a**2\n",
    "    \n",
    "    def perimeter(self, a):\n",
    "        return a*4\n",
    "    \n",
    "class circle(square):\n",
    "    def area(self, b):\n",
    "        if self.shape == 'square':\n",
    "            return super().area(b)\n",
    "        elif self.shape == 'circle':\n",
    "            return (22/7)*b**2\n",
    "    def perimeter(self, b):\n",
    "        if self.shape == 'square':\n",
    "            return super().perimeter(b)\n",
    "        elif self.shape == 'circle':\n",
    "            return (22/7)*b*2\n",
    "\n",
    "class main(circle):\n",
    "    def area(self, c):\n",
    "        return super().area(c)\n",
    "    def perimeter(self, c):\n",
    "        return super().perimeter(c)"
   ]
  },
  {
   "cell_type": "code",
   "execution_count": 18,
   "metadata": {},
   "outputs": [
    {
     "data": {
      "text/plain": [
       "(__main__.main, __main__.circle, __main__.square, __main__.Shape, object)"
      ]
     },
     "execution_count": 18,
     "metadata": {},
     "output_type": "execute_result"
    }
   ],
   "source": [
    "main.__mro__"
   ]
  },
  {
   "cell_type": "code",
   "execution_count": 19,
   "metadata": {},
   "outputs": [],
   "source": [
    "obj = main('square')"
   ]
  },
  {
   "cell_type": "code",
   "execution_count": 20,
   "metadata": {},
   "outputs": [
    {
     "data": {
      "text/plain": [
       "25"
      ]
     },
     "execution_count": 20,
     "metadata": {},
     "output_type": "execute_result"
    }
   ],
   "source": [
    "obj.area(5)"
   ]
  },
  {
   "cell_type": "code",
   "execution_count": 21,
   "metadata": {},
   "outputs": [],
   "source": [
    "obj = main('circle')"
   ]
  },
  {
   "cell_type": "code",
   "execution_count": 22,
   "metadata": {},
   "outputs": [
    {
     "data": {
      "text/plain": [
       "144.57142857142856"
      ]
     },
     "execution_count": 22,
     "metadata": {},
     "output_type": "execute_result"
    }
   ],
   "source": [
    "obj.perimeter(23)"
   ]
  },
  {
   "cell_type": "code",
   "execution_count": null,
   "metadata": {},
   "outputs": [],
   "source": []
  },
  {
   "cell_type": "code",
   "execution_count": null,
   "metadata": {},
   "outputs": [],
   "source": []
  },
  {
   "cell_type": "code",
   "execution_count": null,
   "metadata": {},
   "outputs": [],
   "source": []
  },
  {
   "cell_type": "code",
   "execution_count": null,
   "metadata": {},
   "outputs": [],
   "source": []
  },
  {
   "cell_type": "code",
   "execution_count": null,
   "metadata": {},
   "outputs": [],
   "source": []
  },
  {
   "cell_type": "code",
   "execution_count": null,
   "metadata": {},
   "outputs": [],
   "source": []
  },
  {
   "cell_type": "code",
   "execution_count": null,
   "metadata": {},
   "outputs": [],
   "source": []
  },
  {
   "cell_type": "code",
   "execution_count": null,
   "metadata": {},
   "outputs": [],
   "source": []
  },
  {
   "cell_type": "code",
   "execution_count": null,
   "metadata": {},
   "outputs": [],
   "source": []
  },
  {
   "cell_type": "code",
   "execution_count": null,
   "metadata": {},
   "outputs": [],
   "source": []
  },
  {
   "cell_type": "code",
   "execution_count": null,
   "metadata": {},
   "outputs": [],
   "source": []
  },
  {
   "cell_type": "code",
   "execution_count": null,
   "metadata": {},
   "outputs": [],
   "source": []
  },
  {
   "cell_type": "code",
   "execution_count": null,
   "metadata": {},
   "outputs": [],
   "source": []
  },
  {
   "cell_type": "code",
   "execution_count": null,
   "metadata": {},
   "outputs": [],
   "source": []
  },
  {
   "cell_type": "code",
   "execution_count": null,
   "metadata": {},
   "outputs": [],
   "source": []
  },
  {
   "cell_type": "code",
   "execution_count": null,
   "metadata": {},
   "outputs": [],
   "source": []
  },
  {
   "cell_type": "code",
   "execution_count": null,
   "metadata": {},
   "outputs": [],
   "source": []
  },
  {
   "cell_type": "code",
   "execution_count": null,
   "metadata": {},
   "outputs": [],
   "source": []
  },
  {
   "cell_type": "markdown",
   "metadata": {},
   "source": [
    "# Exception"
   ]
  },
  {
   "cell_type": "code",
   "execution_count": 23,
   "metadata": {},
   "outputs": [
    {
     "ename": "SyntaxError",
     "evalue": "EOL while scanning string literal (1679903016.py, line 3)",
     "output_type": "error",
     "traceback": [
      "\u001b[0;36m  Input \u001b[0;32mIn [23]\u001b[0;36m\u001b[0m\n\u001b[0;31m    print('Hello World)\u001b[0m\n\u001b[0m                       ^\u001b[0m\n\u001b[0;31mSyntaxError\u001b[0m\u001b[0;31m:\u001b[0m EOL while scanning string literal\n"
     ]
    }
   ],
   "source": [
    "# Syntax error\n",
    "\n",
    "print('Hello World)"
   ]
  },
  {
   "cell_type": "code",
   "execution_count": 24,
   "metadata": {},
   "outputs": [
    {
     "ename": "IndentationError",
     "evalue": "expected an indented block (744580966.py, line 2)",
     "output_type": "error",
     "traceback": [
      "\u001b[0;36m  Input \u001b[0;32mIn [24]\u001b[0;36m\u001b[0m\n\u001b[0;31m    print(i)\u001b[0m\n\u001b[0m    ^\u001b[0m\n\u001b[0;31mIndentationError\u001b[0m\u001b[0;31m:\u001b[0m expected an indented block\n"
     ]
    }
   ],
   "source": [
    "for i in range(100):\n",
    "print(i)"
   ]
  },
  {
   "cell_type": "code",
   "execution_count": 26,
   "metadata": {},
   "outputs": [
    {
     "ename": "IndentationError",
     "evalue": "unindent does not match any outer indentation level (<tokenize>, line 3)",
     "output_type": "error",
     "traceback": [
      "\u001b[0;36m  File \u001b[0;32m<tokenize>:3\u001b[0;36m\u001b[0m\n\u001b[0;31m    print(i**2)\u001b[0m\n\u001b[0m    ^\u001b[0m\n\u001b[0;31mIndentationError\u001b[0m\u001b[0;31m:\u001b[0m unindent does not match any outer indentation level\n"
     ]
    }
   ],
   "source": [
    "for i in range(100):\n",
    "    print(i)\n",
    "   print(i**2)"
   ]
  },
  {
   "cell_type": "code",
   "execution_count": 27,
   "metadata": {},
   "outputs": [
    {
     "ename": "NameError",
     "evalue": "name 'name' is not defined",
     "output_type": "error",
     "traceback": [
      "\u001b[0;31m---------------------------------------------------------------------------\u001b[0m",
      "\u001b[0;31mNameError\u001b[0m                                 Traceback (most recent call last)",
      "Input \u001b[0;32mIn [27]\u001b[0m, in \u001b[0;36m<cell line: 1>\u001b[0;34m()\u001b[0m\n\u001b[0;32m----> 1\u001b[0m \u001b[38;5;28mprint\u001b[39m(\u001b[43mname\u001b[49m)\n",
      "\u001b[0;31mNameError\u001b[0m: name 'name' is not defined"
     ]
    }
   ],
   "source": [
    "print(name)"
   ]
  },
  {
   "cell_type": "code",
   "execution_count": 28,
   "metadata": {},
   "outputs": [
    {
     "ename": "ValueError",
     "evalue": "invalid literal for int() with base 10: 't'",
     "output_type": "error",
     "traceback": [
      "\u001b[0;31m---------------------------------------------------------------------------\u001b[0m",
      "\u001b[0;31mValueError\u001b[0m                                Traceback (most recent call last)",
      "Input \u001b[0;32mIn [28]\u001b[0m, in \u001b[0;36m<cell line: 1>\u001b[0;34m()\u001b[0m\n\u001b[0;32m----> 1\u001b[0m \u001b[38;5;28;43mint\u001b[39;49m\u001b[43m(\u001b[49m\u001b[38;5;124;43m'\u001b[39;49m\u001b[38;5;124;43mt\u001b[39;49m\u001b[38;5;124;43m'\u001b[39;49m\u001b[43m)\u001b[49m\n",
      "\u001b[0;31mValueError\u001b[0m: invalid literal for int() with base 10: 't'"
     ]
    }
   ],
   "source": [
    "int('t')"
   ]
  },
  {
   "cell_type": "code",
   "execution_count": 29,
   "metadata": {},
   "outputs": [
    {
     "ename": "TypeError",
     "evalue": "can't multiply sequence by non-int of type 'str'",
     "output_type": "error",
     "traceback": [
      "\u001b[0;31m---------------------------------------------------------------------------\u001b[0m",
      "\u001b[0;31mTypeError\u001b[0m                                 Traceback (most recent call last)",
      "Input \u001b[0;32mIn [29]\u001b[0m, in \u001b[0;36m<cell line: 1>\u001b[0;34m()\u001b[0m\n\u001b[0;32m----> 1\u001b[0m \u001b[38;5;124;43m'\u001b[39;49m\u001b[38;5;124;43mtext1\u001b[39;49m\u001b[38;5;124;43m'\u001b[39;49m\u001b[43m \u001b[49m\u001b[38;5;241;43m*\u001b[39;49m\u001b[43m \u001b[49m\u001b[38;5;124;43m'\u001b[39;49m\u001b[38;5;124;43mtext2\u001b[39;49m\u001b[38;5;124;43m'\u001b[39;49m\n",
      "\u001b[0;31mTypeError\u001b[0m: can't multiply sequence by non-int of type 'str'"
     ]
    }
   ],
   "source": [
    "'text1' * 'text2'"
   ]
  },
  {
   "cell_type": "code",
   "execution_count": 30,
   "metadata": {},
   "outputs": [
    {
     "name": "stdout",
     "output_type": "stream",
     "text": [
      "[0, 1, 2, 3, 4]\n"
     ]
    },
    {
     "ename": "IndexError",
     "evalue": "list index out of range",
     "output_type": "error",
     "traceback": [
      "\u001b[0;31m---------------------------------------------------------------------------\u001b[0m",
      "\u001b[0;31mIndexError\u001b[0m                                Traceback (most recent call last)",
      "Input \u001b[0;32mIn [30]\u001b[0m, in \u001b[0;36m<cell line: 3>\u001b[0;34m()\u001b[0m\n\u001b[1;32m      1\u001b[0m li \u001b[38;5;241m=\u001b[39m [i \u001b[38;5;28;01mfor\u001b[39;00m i \u001b[38;5;129;01min\u001b[39;00m \u001b[38;5;28mrange\u001b[39m(\u001b[38;5;241m5\u001b[39m)]\n\u001b[1;32m      2\u001b[0m \u001b[38;5;28mprint\u001b[39m(li)\n\u001b[0;32m----> 3\u001b[0m \u001b[38;5;28mprint\u001b[39m(\u001b[43mli\u001b[49m\u001b[43m[\u001b[49m\u001b[38;5;241;43m9\u001b[39;49m\u001b[43m]\u001b[49m)\n",
      "\u001b[0;31mIndexError\u001b[0m: list index out of range"
     ]
    }
   ],
   "source": [
    "li = [i for i in range(5)]\n",
    "print(li)\n",
    "print(li[9])"
   ]
  },
  {
   "cell_type": "code",
   "execution_count": 31,
   "metadata": {},
   "outputs": [
    {
     "ename": "KeyError",
     "evalue": "'k'",
     "output_type": "error",
     "traceback": [
      "\u001b[0;31m---------------------------------------------------------------------------\u001b[0m",
      "\u001b[0;31mKeyError\u001b[0m                                  Traceback (most recent call last)",
      "Input \u001b[0;32mIn [31]\u001b[0m, in \u001b[0;36m<cell line: 2>\u001b[0;34m()\u001b[0m\n\u001b[1;32m      1\u001b[0m dc \u001b[38;5;241m=\u001b[39m {\u001b[38;5;124m'\u001b[39m\u001b[38;5;124ma\u001b[39m\u001b[38;5;124m'\u001b[39m:\u001b[38;5;241m1\u001b[39m, \u001b[38;5;124m'\u001b[39m\u001b[38;5;124mb\u001b[39m\u001b[38;5;124m'\u001b[39m:\u001b[38;5;241m2\u001b[39m, \u001b[38;5;124m'\u001b[39m\u001b[38;5;124mc\u001b[39m\u001b[38;5;124m'\u001b[39m:\u001b[38;5;241m3\u001b[39m}\n\u001b[0;32m----> 2\u001b[0m \u001b[43mdc\u001b[49m\u001b[43m[\u001b[49m\u001b[38;5;124;43m'\u001b[39;49m\u001b[38;5;124;43mk\u001b[39;49m\u001b[38;5;124;43m'\u001b[39;49m\u001b[43m]\u001b[49m\n",
      "\u001b[0;31mKeyError\u001b[0m: 'k'"
     ]
    }
   ],
   "source": [
    "dc = {'a':1, 'b':2, 'c':3}\n",
    "dc['k']"
   ]
  },
  {
   "cell_type": "code",
   "execution_count": 32,
   "metadata": {},
   "outputs": [
    {
     "ename": "ModuleNotFoundError",
     "evalue": "No module named 'timE'",
     "output_type": "error",
     "traceback": [
      "\u001b[0;31m---------------------------------------------------------------------------\u001b[0m",
      "\u001b[0;31mModuleNotFoundError\u001b[0m                       Traceback (most recent call last)",
      "Input \u001b[0;32mIn [32]\u001b[0m, in \u001b[0;36m<cell line: 1>\u001b[0;34m()\u001b[0m\n\u001b[0;32m----> 1\u001b[0m \u001b[38;5;28;01mimport\u001b[39;00m \u001b[38;5;21;01mtimE\u001b[39;00m\n",
      "\u001b[0;31mModuleNotFoundError\u001b[0m: No module named 'timE'"
     ]
    }
   ],
   "source": [
    "import timE"
   ]
  },
  {
   "cell_type": "code",
   "execution_count": 33,
   "metadata": {},
   "outputs": [
    {
     "ename": "ImportError",
     "evalue": "cannot import name 'train_test_sp' from 'sklearn' (/Users/abhilashchauhan/miniforge3/lib/python3.9/site-packages/sklearn/__init__.py)",
     "output_type": "error",
     "traceback": [
      "\u001b[0;31m---------------------------------------------------------------------------\u001b[0m",
      "\u001b[0;31mImportError\u001b[0m                               Traceback (most recent call last)",
      "Input \u001b[0;32mIn [33]\u001b[0m, in \u001b[0;36m<cell line: 1>\u001b[0;34m()\u001b[0m\n\u001b[0;32m----> 1\u001b[0m \u001b[38;5;28;01mfrom\u001b[39;00m \u001b[38;5;21;01msklearn\u001b[39;00m \u001b[38;5;28;01mimport\u001b[39;00m train_test_sp\n",
      "\u001b[0;31mImportError\u001b[0m: cannot import name 'train_test_sp' from 'sklearn' (/Users/abhilashchauhan/miniforge3/lib/python3.9/site-packages/sklearn/__init__.py)"
     ]
    }
   ],
   "source": [
    "from sklearn import train_test_sp"
   ]
  },
  {
   "cell_type": "code",
   "execution_count": 34,
   "metadata": {},
   "outputs": [
    {
     "ename": "ZeroDivisionError",
     "evalue": "division by zero",
     "output_type": "error",
     "traceback": [
      "\u001b[0;31m---------------------------------------------------------------------------\u001b[0m",
      "\u001b[0;31mZeroDivisionError\u001b[0m                         Traceback (most recent call last)",
      "Input \u001b[0;32mIn [34]\u001b[0m, in \u001b[0;36m<cell line: 1>\u001b[0;34m()\u001b[0m\n\u001b[0;32m----> 1\u001b[0m \u001b[38;5;241;43m89\u001b[39;49m\u001b[38;5;241;43m/\u001b[39;49m\u001b[38;5;241;43m0\u001b[39;49m\n",
      "\u001b[0;31mZeroDivisionError\u001b[0m: division by zero"
     ]
    }
   ],
   "source": [
    "89/0"
   ]
  },
  {
   "cell_type": "code",
   "execution_count": 35,
   "metadata": {},
   "outputs": [
    {
     "ename": "AttributeError",
     "evalue": "'list' object has no attribute 'shape'",
     "output_type": "error",
     "traceback": [
      "\u001b[0;31m---------------------------------------------------------------------------\u001b[0m",
      "\u001b[0;31mAttributeError\u001b[0m                            Traceback (most recent call last)",
      "Input \u001b[0;32mIn [35]\u001b[0m, in \u001b[0;36m<cell line: 1>\u001b[0;34m()\u001b[0m\n\u001b[0;32m----> 1\u001b[0m \u001b[43mli\u001b[49m\u001b[38;5;241;43m.\u001b[39;49m\u001b[43mshape\u001b[49m\n",
      "\u001b[0;31mAttributeError\u001b[0m: 'list' object has no attribute 'shape'"
     ]
    }
   ],
   "source": [
    "li.shape"
   ]
  },
  {
   "cell_type": "code",
   "execution_count": null,
   "metadata": {},
   "outputs": [],
   "source": []
  },
  {
   "cell_type": "code",
   "execution_count": null,
   "metadata": {},
   "outputs": [],
   "source": []
  },
  {
   "cell_type": "code",
   "execution_count": 36,
   "metadata": {},
   "outputs": [],
   "source": [
    "def speed(x):\n",
    "    assert (x<120), 'Please slow down the speed'\n",
    "    return 20/x"
   ]
  },
  {
   "cell_type": "code",
   "execution_count": 38,
   "metadata": {},
   "outputs": [
    {
     "data": {
      "text/plain": [
       "0.1834862385321101"
      ]
     },
     "execution_count": 38,
     "metadata": {},
     "output_type": "execute_result"
    }
   ],
   "source": [
    "speed(109)"
   ]
  },
  {
   "cell_type": "code",
   "execution_count": 42,
   "metadata": {},
   "outputs": [
    {
     "name": "stdout",
     "output_type": "stream",
     "text": [
      "7\n",
      "9\n",
      "5\n",
      "3\n",
      "9\n",
      "u\n"
     ]
    },
    {
     "ename": "ValueError",
     "evalue": "invalid literal for int() with base 10: 'u'",
     "output_type": "error",
     "traceback": [
      "\u001b[0;31m---------------------------------------------------------------------------\u001b[0m",
      "\u001b[0;31mValueError\u001b[0m                                Traceback (most recent call last)",
      "Input \u001b[0;32mIn [42]\u001b[0m, in \u001b[0;36m<cell line: 2>\u001b[0;34m()\u001b[0m\n\u001b[1;32m      1\u001b[0m \u001b[38;5;28;01mwhile\u001b[39;00m \u001b[38;5;28;01mTrue\u001b[39;00m:\n\u001b[0;32m----> 2\u001b[0m     num \u001b[38;5;241m=\u001b[39m \u001b[38;5;28;43mint\u001b[39;49m\u001b[43m(\u001b[49m\u001b[38;5;28;43minput\u001b[39;49m\u001b[43m(\u001b[49m\u001b[43m)\u001b[49m\u001b[43m)\u001b[49m\n\u001b[1;32m      3\u001b[0m     \u001b[38;5;28;01mif\u001b[39;00m num \u001b[38;5;241m%\u001b[39m \u001b[38;5;241m2\u001b[39m \u001b[38;5;241m==\u001b[39m \u001b[38;5;241m0\u001b[39m:\n\u001b[1;32m      4\u001b[0m         \u001b[38;5;28;01mbreak\u001b[39;00m\n",
      "\u001b[0;31mValueError\u001b[0m: invalid literal for int() with base 10: 'u'"
     ]
    }
   ],
   "source": [
    "while True:\n",
    "    num = int(input())\n",
    "    if num % 2 == 0:\n",
    "        break"
   ]
  },
  {
   "cell_type": "code",
   "execution_count": 43,
   "metadata": {},
   "outputs": [
    {
     "name": "stdout",
     "output_type": "stream",
     "text": [
      "7\n",
      "9\n",
      "89\n",
      "87\n",
      "u\n",
      "Please input numbers only !!\n",
      "67\n",
      "43\n",
      "21\n",
      "22\n"
     ]
    }
   ],
   "source": [
    "while True:\n",
    "    try:\n",
    "        num = int(input())\n",
    "    except:\n",
    "        print('Please input numbers only !!')\n",
    "    else:\n",
    "        if num % 2 == 0:\n",
    "            break"
   ]
  },
  {
   "cell_type": "code",
   "execution_count": 46,
   "metadata": {},
   "outputs": [
    {
     "name": "stdout",
     "output_type": "stream",
     "text": [
      "0\n",
      "34567\n"
     ]
    },
    {
     "ename": "ZeroDivisionError",
     "evalue": "division by zero",
     "output_type": "error",
     "traceback": [
      "\u001b[0;31m---------------------------------------------------------------------------\u001b[0m",
      "\u001b[0;31mZeroDivisionError\u001b[0m                         Traceback (most recent call last)",
      "Input \u001b[0;32mIn [46]\u001b[0m, in \u001b[0;36m<cell line: 3>\u001b[0;34m()\u001b[0m\n\u001b[1;32m      1\u001b[0m time \u001b[38;5;241m=\u001b[39m \u001b[38;5;28mint\u001b[39m(\u001b[38;5;28minput\u001b[39m())\n\u001b[1;32m      2\u001b[0m distance \u001b[38;5;241m=\u001b[39m \u001b[38;5;28mint\u001b[39m(\u001b[38;5;28minput\u001b[39m())\n\u001b[0;32m----> 3\u001b[0m speed \u001b[38;5;241m=\u001b[39m \u001b[43mdistance\u001b[49m\u001b[38;5;241;43m/\u001b[39;49m\u001b[43mtime\u001b[49m\n\u001b[1;32m      4\u001b[0m \u001b[38;5;28mprint\u001b[39m(speed)\n",
      "\u001b[0;31mZeroDivisionError\u001b[0m: division by zero"
     ]
    }
   ],
   "source": [
    "time = int(input())\n",
    "distance = int(input())\n",
    "speed = distance/time\n",
    "print(speed)"
   ]
  },
  {
   "cell_type": "code",
   "execution_count": 48,
   "metadata": {
    "scrolled": true
   },
   "outputs": [
    {
     "name": "stdout",
     "output_type": "stream",
     "text": [
      "yui\n",
      "invalid literal for int() with base 10: 'yui'\n"
     ]
    }
   ],
   "source": [
    "try:\n",
    "    time = int(input())\n",
    "    distance = int(input())\n",
    "    speed = distance/time\n",
    "    print(speed)\n",
    "    \n",
    "except Exception as e:\n",
    "    print(e)"
   ]
  },
  {
   "cell_type": "code",
   "execution_count": 50,
   "metadata": {},
   "outputs": [
    {
     "name": "stdout",
     "output_type": "stream",
     "text": [
      "time in minutes: 879\n",
      "distance in KMs: 8j\n",
      "Please enter numbers only !!\n"
     ]
    }
   ],
   "source": [
    "try:\n",
    "    time = int(input('time in minutes: '))\n",
    "    distance = int(input('distance in KMs: '))\n",
    "    speed = distance/time\n",
    "    \n",
    "except ValueError:\n",
    "    print('Please enter numbers only !!')\n",
    "    \n",
    "except ZeroDivisionError:\n",
    "    print('Time can not be zero !!')\n",
    "    \n",
    "except:\n",
    "    print('Some Error Occured')\n",
    "else:\n",
    "    print(speed)"
   ]
  },
  {
   "cell_type": "code",
   "execution_count": null,
   "metadata": {},
   "outputs": [],
   "source": []
  },
  {
   "cell_type": "raw",
   "metadata": {},
   "source": [
    "Write a fn to calculate an expression with single operator, take care of all possible errors\n",
    "\n",
    "Ex\n",
    "calculate('2 + 6')\n",
    "8\n",
    "\n",
    "\n",
    "calculate('2 * 6')\n",
    "12"
   ]
  },
  {
   "cell_type": "code",
   "execution_count": 54,
   "metadata": {},
   "outputs": [],
   "source": [
    "def calculate(arg):\n",
    "    args = arg.split(' ')\n",
    "    try:\n",
    "        assert len(args)==3, 'Incorrect format'\n",
    "        if args[1] == '+':\n",
    "            return int(args[0]) + int(args[2])\n",
    "    except ValueError:\n",
    "        print('Plase give the exression like \"a + b\"')\n",
    "    except AssertionError:\n",
    "        print('Plase give the exression like \"a + b\"')\n",
    "        "
   ]
  },
  {
   "cell_type": "code",
   "execution_count": 55,
   "metadata": {},
   "outputs": [
    {
     "data": {
      "text/plain": [
       "7"
      ]
     },
     "execution_count": 55,
     "metadata": {},
     "output_type": "execute_result"
    }
   ],
   "source": [
    "calculate('2 + 5')"
   ]
  },
  {
   "cell_type": "code",
   "execution_count": 56,
   "metadata": {},
   "outputs": [
    {
     "name": "stdout",
     "output_type": "stream",
     "text": [
      "Plase give the exression like \"a + b\"\n"
     ]
    }
   ],
   "source": [
    "calculate('2 + 3')"
   ]
  },
  {
   "cell_type": "code",
   "execution_count": null,
   "metadata": {},
   "outputs": [],
   "source": []
  },
  {
   "cell_type": "raw",
   "metadata": {},
   "source": [
    "Write a program to save marks of the student in dictionary, with key as name of student and value as marks of student, then write a logic to get the marks of the student by taking it's name as input !! Use try and except to handle KeyError (Use OOPs for writing the program)"
   ]
  },
  {
   "cell_type": "code",
   "execution_count": null,
   "metadata": {},
   "outputs": [],
   "source": []
  },
  {
   "cell_type": "code",
   "execution_count": 1,
   "metadata": {},
   "outputs": [],
   "source": []
  },
  {
   "cell_type": "code",
   "execution_count": 3,
   "metadata": {},
   "outputs": [
    {
     "name": "stdout",
     "output_type": "stream",
     "text": [
      "Enter the name of student: st1\n",
      "Enter the marks: 34\n",
      "Enter the name of student: st2\n",
      "Enter the marks: 33\n",
      "Enter the name of student: st3\n",
      "Enter the marks: 35\n",
      "Enter the name of student: st4\n",
      "Enter the marks: 39\n",
      "Enter the name of student: st5\n",
      "Enter the marks: 37\n"
     ]
    }
   ],
   "source": [
    "class students:\n",
    "    def __init__(self):\n",
    "        self.dc = {}\n",
    "        \n",
    "    def add_new_student(self, name, marks):\n",
    "        self.dc[name] = marks\n",
    "        \n",
    "    def get_marks(self, name):\n",
    "        return self.dc[name]\n",
    "\n",
    "no_of_students = int(input('How many students are there? '))\n",
    "\n",
    "st = students()\n",
    "\n",
    "for i in range(no_of_students):\n",
    "    name = input('Enter the name of student: ')\n",
    "    marks = int(input('Enter the marks: '))\n",
    "    st.add_new_student(name, marks)\n",
    "\n",
    "name = input('Enater the name of student for which marks needs to be returned: ')\n",
    "try:\n",
    "    marks = st.get_marks(name)\n",
    "except:\n",
    "    print('Student not in record')\n",
    "else:\n",
    "    print('Marks of {} is {}'.format(name, marks))"
   ]
  },
  {
   "cell_type": "code",
   "execution_count": 7,
   "metadata": {},
   "outputs": [
    {
     "name": "stdout",
     "output_type": "stream",
     "text": [
      "Enater the name of student for which marks needs to be returned: io\n",
      "Student not in record\n"
     ]
    }
   ],
   "source": []
  },
  {
   "cell_type": "code",
   "execution_count": null,
   "metadata": {},
   "outputs": [],
   "source": []
  },
  {
   "cell_type": "code",
   "execution_count": null,
   "metadata": {},
   "outputs": [],
   "source": []
  },
  {
   "cell_type": "code",
   "execution_count": null,
   "metadata": {},
   "outputs": [],
   "source": []
  },
  {
   "cell_type": "code",
   "execution_count": 8,
   "metadata": {},
   "outputs": [],
   "source": [
    "class OverSpeedError(Exception):\n",
    "    pass"
   ]
  },
  {
   "cell_type": "code",
   "execution_count": 9,
   "metadata": {},
   "outputs": [],
   "source": [
    "def getSpeed(distance, time):\n",
    "    speed = distance/time\n",
    "    if speed > 100:\n",
    "        raise OverSpeedError"
   ]
  },
  {
   "cell_type": "code",
   "execution_count": 10,
   "metadata": {},
   "outputs": [
    {
     "ename": "OverSpeedError",
     "evalue": "",
     "output_type": "error",
     "traceback": [
      "\u001b[0;31m---------------------------------------------------------------------------\u001b[0m",
      "\u001b[0;31mOverSpeedError\u001b[0m                            Traceback (most recent call last)",
      "Input \u001b[0;32mIn [10]\u001b[0m, in \u001b[0;36m<cell line: 1>\u001b[0;34m()\u001b[0m\n\u001b[0;32m----> 1\u001b[0m \u001b[43mgetSpeed\u001b[49m\u001b[43m(\u001b[49m\u001b[38;5;241;43m120\u001b[39;49m\u001b[43m,\u001b[49m\u001b[38;5;241;43m1\u001b[39;49m\u001b[43m)\u001b[49m\n",
      "Input \u001b[0;32mIn [9]\u001b[0m, in \u001b[0;36mgetSpeed\u001b[0;34m(distance, time)\u001b[0m\n\u001b[1;32m      2\u001b[0m speed \u001b[38;5;241m=\u001b[39m distance\u001b[38;5;241m/\u001b[39mtime\n\u001b[1;32m      3\u001b[0m \u001b[38;5;28;01mif\u001b[39;00m speed \u001b[38;5;241m>\u001b[39m \u001b[38;5;241m100\u001b[39m:\n\u001b[0;32m----> 4\u001b[0m     \u001b[38;5;28;01mraise\u001b[39;00m OverSpeedError\n",
      "\u001b[0;31mOverSpeedError\u001b[0m: "
     ]
    }
   ],
   "source": [
    "getSpeed(120,1)"
   ]
  },
  {
   "cell_type": "code",
   "execution_count": 11,
   "metadata": {},
   "outputs": [
    {
     "name": "stdout",
     "output_type": "stream",
     "text": [
      "120\n",
      "1\n",
      "Drive Slowly !!\n"
     ]
    }
   ],
   "source": [
    "try:\n",
    "    distance = int(input())\n",
    "    time = int(input())\n",
    "    getSpeed(distance,time)\n",
    "except (OverSpeedError, ValueError):\n",
    "    print(\"Drive Slowly !!\")\n",
    "    \n",
    "except Exception as e:\n",
    "    print(e)"
   ]
  },
  {
   "cell_type": "code",
   "execution_count": null,
   "metadata": {},
   "outputs": [],
   "source": []
  },
  {
   "cell_type": "code",
   "execution_count": null,
   "metadata": {},
   "outputs": [],
   "source": []
  },
  {
   "cell_type": "code",
   "execution_count": null,
   "metadata": {},
   "outputs": [],
   "source": []
  },
  {
   "cell_type": "markdown",
   "metadata": {},
   "source": [
    "# File Handling"
   ]
  },
  {
   "cell_type": "code",
   "execution_count": 37,
   "metadata": {},
   "outputs": [],
   "source": [
    "file = open('NewFile.txt', 'w')"
   ]
  },
  {
   "cell_type": "code",
   "execution_count": 38,
   "metadata": {},
   "outputs": [
    {
     "data": {
      "text/plain": [
       "20"
      ]
     },
     "execution_count": 38,
     "metadata": {},
     "output_type": "execute_result"
    }
   ],
   "source": [
    "file.write('Hello from Python !!')"
   ]
  },
  {
   "cell_type": "code",
   "execution_count": 39,
   "metadata": {},
   "outputs": [],
   "source": [
    "file.close()"
   ]
  },
  {
   "cell_type": "code",
   "execution_count": null,
   "metadata": {},
   "outputs": [],
   "source": []
  },
  {
   "cell_type": "code",
   "execution_count": 40,
   "metadata": {},
   "outputs": [
    {
     "name": "stdout",
     "output_type": "stream",
     "text": [
      "Hello from Python !!\n"
     ]
    }
   ],
   "source": [
    "with open('NewFile.txt', 'r') as file:\n",
    "    print(file.read())"
   ]
  },
  {
   "cell_type": "code",
   "execution_count": 16,
   "metadata": {},
   "outputs": [
    {
     "ename": "ValueError",
     "evalue": "I/O operation on closed file.",
     "output_type": "error",
     "traceback": [
      "\u001b[0;31m---------------------------------------------------------------------------\u001b[0m",
      "\u001b[0;31mValueError\u001b[0m                                Traceback (most recent call last)",
      "Input \u001b[0;32mIn [16]\u001b[0m, in \u001b[0;36m<cell line: 1>\u001b[0;34m()\u001b[0m\n\u001b[0;32m----> 1\u001b[0m \u001b[43mfile\u001b[49m\u001b[38;5;241;43m.\u001b[39;49m\u001b[43mread\u001b[49m\u001b[43m(\u001b[49m\u001b[43m)\u001b[49m\n",
      "\u001b[0;31mValueError\u001b[0m: I/O operation on closed file."
     ]
    }
   ],
   "source": [
    "file.read()"
   ]
  },
  {
   "cell_type": "code",
   "execution_count": 17,
   "metadata": {},
   "outputs": [],
   "source": [
    "with open('NewFile.txt', 'a') as file:\n",
    "    file.write('\\nWelcome from Python again !!')"
   ]
  },
  {
   "cell_type": "code",
   "execution_count": 18,
   "metadata": {},
   "outputs": [
    {
     "name": "stdout",
     "output_type": "stream",
     "text": [
      "Hello from Python !!\n",
      "Welcome from Python again !!\n"
     ]
    }
   ],
   "source": [
    "with open('NewFile.txt', 'r') as file:\n",
    "    print(file.read())\n"
   ]
  },
  {
   "cell_type": "code",
   "execution_count": null,
   "metadata": {},
   "outputs": [],
   "source": []
  },
  {
   "cell_type": "code",
   "execution_count": 19,
   "metadata": {},
   "outputs": [],
   "source": [
    "import os"
   ]
  },
  {
   "cell_type": "code",
   "execution_count": 20,
   "metadata": {},
   "outputs": [],
   "source": [
    "os.remove('NewFile.txt')"
   ]
  },
  {
   "cell_type": "code",
   "execution_count": 21,
   "metadata": {},
   "outputs": [],
   "source": [
    "os.mkdir('NewFolder')"
   ]
  },
  {
   "cell_type": "code",
   "execution_count": 22,
   "metadata": {},
   "outputs": [],
   "source": [
    "os.rmdir('NewFolder')"
   ]
  },
  {
   "cell_type": "code",
   "execution_count": 23,
   "metadata": {},
   "outputs": [
    {
     "data": {
      "text/plain": [
       "'/Users/abhilashchauhan/Documents/Notebooks'"
      ]
     },
     "execution_count": 23,
     "metadata": {},
     "output_type": "execute_result"
    }
   ],
   "source": [
    "os.getcwd()"
   ]
  },
  {
   "cell_type": "code",
   "execution_count": 24,
   "metadata": {},
   "outputs": [
    {
     "data": {
      "text/plain": [
       "['machine learning',\n",
       " '.DS_Store',\n",
       " 'Job Recommendation',\n",
       " '11.txt',\n",
       " '.localized',\n",
       " 'Logistic Regression.pdf',\n",
       " 'Simplilearn Content',\n",
       " 'Jorie Automation',\n",
       " 'linear:logistic.pdf',\n",
       " 'ml',\n",
       " 'Classification Algos.pdf',\n",
       " 'Zoom',\n",
       " '.ipynb_checkpoints',\n",
       " 'Neural Nets - 2.pdf',\n",
       " 'NIIT-Stacrout',\n",
       " 'Blackmagic Design',\n",
       " 'Neural Nets - 1.pdf',\n",
       " 'Notebooks']"
      ]
     },
     "execution_count": 24,
     "metadata": {},
     "output_type": "execute_result"
    }
   ],
   "source": [
    "os.listdir('/Users/abhilashchauhan/Documents')"
   ]
  },
  {
   "cell_type": "code",
   "execution_count": 25,
   "metadata": {
    "scrolled": true
   },
   "outputs": [
    {
     "data": {
      "text/plain": [
       "['new notwbook.ipynb',\n",
       " 'sales new.csv',\n",
       " 'Demo Datasets',\n",
       " 'Titanic data.csv.zip',\n",
       " 'beautifulsoup-step-by-step-guide-imdb.ipynb',\n",
       " 'sales-funnel.xlsx',\n",
       " 'practical-pandas-projects-master.zip',\n",
       " 'pandas basics.ipynb',\n",
       " '.DS_Store',\n",
       " 'While Loop.ipynb',\n",
       " 'Somefile.txt',\n",
       " 'LSTM-basics.ipynb',\n",
       " 'practical-pandas-projects',\n",
       " 'RE.ipynb',\n",
       " 'welcome.mp3',\n",
       " 'Senior Secondary Schools In Lucknow.csv',\n",
       " 'New Python Notebook.ipynb',\n",
       " 'ign.csv',\n",
       " 'Untitled.ipynb',\n",
       " 'sorted data demo.csv',\n",
       " 'schools.ipynb',\n",
       " 'Visualization.ipynb',\n",
       " 'Python Intro.ipynb',\n",
       " 'pivot-1.csv',\n",
       " 'Dimensionality Reduction.ipynb',\n",
       " 'Abhilash Chauhan Resume.pdf',\n",
       " 'nonviowf.ipynb',\n",
       " 'Schools_in_UP.zip',\n",
       " 'Pandas SKUAST.ipynb',\n",
       " 'python_debugger.py',\n",
       " 'new notebook.ipynb',\n",
       " 'Nested For Loop.ipynb',\n",
       " 'movie.json.txt',\n",
       " 'Job Application Template.txt',\n",
       " 'Anomaly Detection & Data Preprocessing.ipynb',\n",
       " 'Assessment.ipynb',\n",
       " 'test.py',\n",
       " 'Movies Review.ipynb',\n",
       " 'Automated Email-Campaign-2.ipynb',\n",
       " 'Core Python -SKUAST.ipynb',\n",
       " 'Python project',\n",
       " 'scraped.txt',\n",
       " 'Abiee.ipynb',\n",
       " 'Functions.ipynb',\n",
       " 'Subprocess',\n",
       " 'untitled.txt',\n",
       " 'OOPs.ipynb',\n",
       " 'Numpy Arrays.ipynb',\n",
       " '06th-Sep.ipynb',\n",
       " 'hr_data.csv',\n",
       " 'hand gestures.ipynb',\n",
       " 'Pyplot.ipynb',\n",
       " 'Numpy.ipynb',\n",
       " '2. Pandas for Machine Learning.ipynb',\n",
       " 'Abhilash Chauhan Resume.ipynb',\n",
       " 'sales-data.csv',\n",
       " 'Topic Modeling.txt',\n",
       " 'Python Project - Password Manager.ipynb',\n",
       " 'python class 1.ipynb',\n",
       " 'Lesson 3 Practice',\n",
       " 'Solution.ipynb',\n",
       " 'train.csv',\n",
       " 'pandas-Skuast.ipynb',\n",
       " 'myfile.txt',\n",
       " '.ipynb_checkpoints',\n",
       " 'Analytics with python.xlsx',\n",
       " 'pyplot.py',\n",
       " 'Core Python.ipynb',\n",
       " 'Collection Objects.ipynb',\n",
       " 'movies.csv',\n",
       " 'line.jpg',\n",
       " 'Pandas.ipynb',\n",
       " 'Schools_in_UP',\n",
       " 'Pandas Basics-2.ipynb',\n",
       " 'scrape data.ipynb',\n",
       " 'Automated Email Campaign-1.ipynb',\n",
       " 'Simple-Chatbot',\n",
       " 'Titanic data.csv',\n",
       " 'agri dataset',\n",
       " 'data structures .ipynb',\n",
       " 'Senior Secondary Schools In Kanpur.csv',\n",
       " 'pivot.csv',\n",
       " 'sales.csv']"
      ]
     },
     "execution_count": 25,
     "metadata": {},
     "output_type": "execute_result"
    }
   ],
   "source": [
    "os.listdir(os.getcwd())"
   ]
  },
  {
   "cell_type": "code",
   "execution_count": 26,
   "metadata": {},
   "outputs": [],
   "source": [
    "import os"
   ]
  },
  {
   "cell_type": "code",
   "execution_count": 27,
   "metadata": {
    "scrolled": true
   },
   "outputs": [
    {
     "data": {
      "text/plain": [
       "['new notwbook.ipynb',\n",
       " 'sales new.csv',\n",
       " 'Demo Datasets',\n",
       " 'Titanic data.csv.zip',\n",
       " 'beautifulsoup-step-by-step-guide-imdb.ipynb',\n",
       " 'sales-funnel.xlsx',\n",
       " 'practical-pandas-projects-master.zip',\n",
       " 'pandas basics.ipynb',\n",
       " '.DS_Store',\n",
       " 'While Loop.ipynb',\n",
       " 'Somefile.txt',\n",
       " 'LSTM-basics.ipynb',\n",
       " 'practical-pandas-projects',\n",
       " 'RE.ipynb',\n",
       " 'welcome.mp3',\n",
       " 'Senior Secondary Schools In Lucknow.csv',\n",
       " 'New Python Notebook.ipynb',\n",
       " 'ign.csv',\n",
       " 'Untitled.ipynb',\n",
       " 'sorted data demo.csv',\n",
       " 'schools.ipynb',\n",
       " 'Visualization.ipynb',\n",
       " 'Python Intro.ipynb',\n",
       " 'pivot-1.csv',\n",
       " 'Dimensionality Reduction.ipynb',\n",
       " 'Abhilash Chauhan Resume.pdf',\n",
       " 'nonviowf.ipynb',\n",
       " 'Schools_in_UP.zip',\n",
       " 'Pandas SKUAST.ipynb',\n",
       " 'python_debugger.py',\n",
       " 'new notebook.ipynb',\n",
       " 'Nested For Loop.ipynb',\n",
       " 'movie.json.txt',\n",
       " 'Job Application Template.txt',\n",
       " 'Anomaly Detection & Data Preprocessing.ipynb',\n",
       " 'Assessment.ipynb',\n",
       " 'test.py',\n",
       " 'Movies Review.ipynb',\n",
       " 'Automated Email-Campaign-2.ipynb',\n",
       " 'Core Python -SKUAST.ipynb',\n",
       " 'Python project',\n",
       " 'scraped.txt',\n",
       " 'Abiee.ipynb',\n",
       " 'Functions.ipynb',\n",
       " 'Subprocess',\n",
       " 'untitled.txt',\n",
       " 'OOPs.ipynb',\n",
       " 'Numpy Arrays.ipynb',\n",
       " '06th-Sep.ipynb',\n",
       " 'hr_data.csv',\n",
       " 'hand gestures.ipynb',\n",
       " 'Pyplot.ipynb',\n",
       " 'Numpy.ipynb',\n",
       " '2. Pandas for Machine Learning.ipynb',\n",
       " 'Abhilash Chauhan Resume.ipynb',\n",
       " 'sales-data.csv',\n",
       " 'Topic Modeling.txt',\n",
       " 'Python Project - Password Manager.ipynb',\n",
       " 'python class 1.ipynb',\n",
       " 'Lesson 3 Practice',\n",
       " 'Solution.ipynb',\n",
       " 'train.csv',\n",
       " 'pandas-Skuast.ipynb',\n",
       " 'myfile.txt',\n",
       " '.ipynb_checkpoints',\n",
       " 'Analytics with python.xlsx',\n",
       " 'pyplot.py',\n",
       " 'Core Python.ipynb',\n",
       " 'Collection Objects.ipynb',\n",
       " 'movies.csv',\n",
       " 'line.jpg',\n",
       " 'Pandas.ipynb',\n",
       " 'Schools_in_UP',\n",
       " 'Pandas Basics-2.ipynb',\n",
       " 'scrape data.ipynb',\n",
       " 'Automated Email Campaign-1.ipynb',\n",
       " 'Simple-Chatbot',\n",
       " 'Titanic data.csv',\n",
       " 'agri dataset',\n",
       " 'data structures .ipynb',\n",
       " 'Senior Secondary Schools In Kanpur.csv',\n",
       " 'pivot.csv',\n",
       " 'sales.csv']"
      ]
     },
     "execution_count": 27,
     "metadata": {},
     "output_type": "execute_result"
    }
   ],
   "source": [
    "os.listdir(os.getcwd())"
   ]
  },
  {
   "cell_type": "code",
   "execution_count": 28,
   "metadata": {},
   "outputs": [],
   "source": [
    "files = os.listdir(os.getcwd())"
   ]
  },
  {
   "cell_type": "code",
   "execution_count": 34,
   "metadata": {},
   "outputs": [
    {
     "data": {
      "text/plain": [
       "'ipynb'"
      ]
     },
     "execution_count": 34,
     "metadata": {},
     "output_type": "execute_result"
    }
   ],
   "source": [
    "files[0].split('.')[-1]"
   ]
  },
  {
   "cell_type": "code",
   "execution_count": 30,
   "metadata": {},
   "outputs": [],
   "source": [
    "file_ext = [i.split('.')[-1] for i in files if '.' in i]"
   ]
  },
  {
   "cell_type": "code",
   "execution_count": 31,
   "metadata": {
    "scrolled": true
   },
   "outputs": [
    {
     "data": {
      "text/plain": [
       "['ipynb',\n",
       " 'csv',\n",
       " 'zip',\n",
       " 'ipynb',\n",
       " 'xlsx',\n",
       " 'zip',\n",
       " 'ipynb',\n",
       " 'DS_Store',\n",
       " 'ipynb',\n",
       " 'txt',\n",
       " 'ipynb',\n",
       " 'ipynb',\n",
       " 'mp3',\n",
       " 'csv',\n",
       " 'ipynb',\n",
       " 'csv',\n",
       " 'ipynb',\n",
       " 'csv',\n",
       " 'ipynb',\n",
       " 'ipynb',\n",
       " 'ipynb',\n",
       " 'csv',\n",
       " 'ipynb',\n",
       " 'pdf',\n",
       " 'ipynb',\n",
       " 'zip',\n",
       " 'ipynb',\n",
       " 'py',\n",
       " 'ipynb',\n",
       " 'ipynb',\n",
       " 'txt',\n",
       " 'txt',\n",
       " 'ipynb',\n",
       " 'ipynb',\n",
       " 'py',\n",
       " 'ipynb',\n",
       " 'ipynb',\n",
       " 'ipynb',\n",
       " 'txt',\n",
       " 'ipynb',\n",
       " 'ipynb',\n",
       " 'txt',\n",
       " 'ipynb',\n",
       " 'ipynb',\n",
       " 'ipynb',\n",
       " 'csv',\n",
       " 'ipynb',\n",
       " 'ipynb',\n",
       " 'ipynb',\n",
       " 'ipynb',\n",
       " 'ipynb',\n",
       " 'csv',\n",
       " 'txt',\n",
       " 'ipynb',\n",
       " 'ipynb',\n",
       " 'ipynb',\n",
       " 'csv',\n",
       " 'ipynb',\n",
       " 'txt',\n",
       " 'ipynb_checkpoints',\n",
       " 'xlsx',\n",
       " 'py',\n",
       " 'ipynb',\n",
       " 'ipynb',\n",
       " 'csv',\n",
       " 'jpg',\n",
       " 'ipynb',\n",
       " 'ipynb',\n",
       " 'ipynb',\n",
       " 'ipynb',\n",
       " 'csv',\n",
       " 'ipynb',\n",
       " 'csv',\n",
       " 'csv',\n",
       " 'csv']"
      ]
     },
     "execution_count": 31,
     "metadata": {},
     "output_type": "execute_result"
    }
   ],
   "source": [
    "file_ext"
   ]
  },
  {
   "cell_type": "code",
   "execution_count": 35,
   "metadata": {},
   "outputs": [],
   "source": [
    "dc = dict()\n",
    "for i in set(file_ext):\n",
    "    dc[i] = file_ext.count(i)"
   ]
  },
  {
   "cell_type": "code",
   "execution_count": 36,
   "metadata": {},
   "outputs": [
    {
     "data": {
      "text/plain": [
       "{'csv': 13,\n",
       " 'zip': 3,\n",
       " 'ipynb_checkpoints': 1,\n",
       " 'xlsx': 2,\n",
       " 'txt': 7,\n",
       " 'jpg': 1,\n",
       " 'pdf': 1,\n",
       " 'mp3': 1,\n",
       " 'DS_Store': 1,\n",
       " 'ipynb': 42,\n",
       " 'py': 3}"
      ]
     },
     "execution_count": 36,
     "metadata": {},
     "output_type": "execute_result"
    }
   ],
   "source": [
    "dc"
   ]
  },
  {
   "cell_type": "code",
   "execution_count": null,
   "metadata": {},
   "outputs": [],
   "source": []
  }
 ],
 "metadata": {
  "kernelspec": {
   "display_name": "Python 3 (ipykernel)",
   "language": "python",
   "name": "python3"
  },
  "language_info": {
   "codemirror_mode": {
    "name": "ipython",
    "version": 3
   },
   "file_extension": ".py",
   "mimetype": "text/x-python",
   "name": "python",
   "nbconvert_exporter": "python",
   "pygments_lexer": "ipython3",
   "version": "3.9.10"
  }
 },
 "nbformat": 4,
 "nbformat_minor": 2
}
